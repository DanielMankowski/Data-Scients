{
 "cells": [
  {
   "cell_type": "markdown",
   "metadata": {},
   "source": [
    "## Análisis exploratorio de datos - Properati"
   ]
  },
  {
   "cell_type": "markdown",
   "metadata": {},
   "source": [
    "**Alumnos:**\n",
    "* Cabrera, Laura - 87696\n",
    "* Mankowski, Daniel - 84658\n",
    "* Rivas, Rafael\n",
    "* Rocha, Santiago - 85726\n",
    "\n",
    "**Link al repo en github:** https://github.com/DanielMankowski/Data-Scients"
   ]
  },
  {
   "cell_type": "code",
   "execution_count": null,
   "metadata": {
    "collapsed": true
   },
   "outputs": [],
   "source": [
    "%matplotlib inline\n",
    "\n",
    "import datetime as dt\n",
    "import pandas as pd\n",
    "import numpy as np\n",
    "import matplotlib.pyplot as plt\n",
    "\n",
    "plt.style.use('default') # haciendo los graficos un poco mas bonitos xD\n",
    "plt.rcParams['figure.figsize'] = (15, 5)"
   ]
  },
  {
   "cell_type": "code",
   "execution_count": null,
   "metadata": {
    "collapsed": false
   },
   "outputs": [],
   "source": [
    "# Levantamos los datos obtenidos de Properati\n",
    "propiedades = pd.read_csv('./datasets/properati-AR-2017-08-01-properties-sell.csv', sep=',', error_bad_lines=False, low_memory=False)\n",
    "propiedades.info()"
   ]
  },
  {
   "cell_type": "code",
   "execution_count": null,
   "metadata": {
    "collapsed": false
   },
   "outputs": [],
   "source": [
    "# Vemos un registro como ejemplo del dataframe\n",
    "propiedades.sample()"
   ]
  },
  {
   "cell_type": "markdown",
   "metadata": {},
   "source": [
    "### Data Cleaning\n",
    "* Analizar los diferentes valores que puede tomar state_name para hacer el filtro correctamente y no perder información."
   ]
  },
  {
   "cell_type": "code",
   "execution_count": null,
   "metadata": {
    "collapsed": false
   },
   "outputs": [],
   "source": [
    "propiedades.loc[:, 'state_name'].value_counts()"
   ]
  },
  {
   "cell_type": "markdown",
   "metadata": {},
   "source": [
    "* Agregar columnas de Año y Mes para futuros análisis"
   ]
  },
  {
   "cell_type": "code",
   "execution_count": null,
   "metadata": {
    "collapsed": false,
    "scrolled": true
   },
   "outputs": [],
   "source": [
    "propiedades.loc[:,'year'] = pd.to_datetime(propiedades.loc[:,'created_on']).dt.year\n",
    "propiedades.loc[:,'month'] = pd.to_datetime(propiedades.loc[:,'created_on']).dt.month\n",
    "propiedades.sample()"
   ]
  },
  {
   "cell_type": "markdown",
   "metadata": {},
   "source": [
    "* Filtrar las propiedades de CABA y GBA."
   ]
  },
  {
   "cell_type": "code",
   "execution_count": null,
   "metadata": {
    "collapsed": false
   },
   "outputs": [],
   "source": [
    "# Como el enunciado lo indica nos quedamos con los datos de Capital Federal y Gran Buenos Aires\n",
    "prop_caba_gba = propiedades[propiedades['state_name'].str.contains('Capital Federal') | propiedades['state_name'].str.contains('G.B.A.')]\n",
    "prop_caba_gba.sample()"
   ]
  },
  {
   "cell_type": "markdown",
   "metadata": {},
   "source": [
    "* Agregar una columna con el Barrio o Partido de la propiedad "
   ]
  },
  {
   "cell_type": "code",
   "execution_count": null,
   "metadata": {
    "collapsed": false,
    "scrolled": true
   },
   "outputs": [],
   "source": [
    "def parsear_zona(row):\n",
    "    mylist = row.loc['place_with_parent_names'].split(\"|\")\n",
    "    return mylist[3]\n",
    "\n",
    "prop_caba_gba.loc[:,'neighborhood'] = prop_caba_gba.apply(parsear_zona, axis=1)   "
   ]
  },
  {
   "cell_type": "code",
   "execution_count": null,
   "metadata": {
    "collapsed": false
   },
   "outputs": [],
   "source": [
    "# Vista final de cómo quedó el DataFrame\n",
    "prop_caba_gba.head()"
   ]
  },
  {
   "cell_type": "markdown",
   "metadata": {},
   "source": [
    "## ¿Cuántas propiedades se vendieron por estado?"
   ]
  },
  {
   "cell_type": "markdown",
   "metadata": {},
   "source": [
    "Entendemos como **Estado** a Capital Federal o cada una de las 3 regiones del Gran Buenos Aires. Una primera vista nos permite tener una idea de cómo se dividió la cantidad de ventas de propiedades entre estos cuatro estados."
   ]
  },
  {
   "cell_type": "code",
   "execution_count": null,
   "metadata": {
    "collapsed": false,
    "scrolled": true
   },
   "outputs": [],
   "source": [
    "prop_barrio = prop_caba_gba['state_name'].value_counts()\n",
    "prop_barrio"
   ]
  },
  {
   "cell_type": "code",
   "execution_count": null,
   "metadata": {
    "collapsed": false
   },
   "outputs": [],
   "source": [
    "plt.figure()\n",
    "colors = ['steelblue', 'seagreen', 'palegoldenrod', 'lightcoral']\n",
    "plt.title('Porcentaje de ventas por estado', fontsize=20)\n",
    "prop_barrio.plot.pie(figsize=(7, 7), colors = colors, autopct='%1.2f%%', startangle=20);\n"
   ]
  },
  {
   "cell_type": "markdown",
   "metadata": {},
   "source": [
    "Podemos observar que la mayoría de las ventas se producen en CABA en su totalidad y la Zona Norte del Gran Buenos Aires."
   ]
  },
  {
   "cell_type": "markdown",
   "metadata": {},
   "source": [
    "### ¿Cuáles son los barrio en donde se produce el mayor número de ventas?"
   ]
  },
  {
   "cell_type": "markdown",
   "metadata": {},
   "source": [
    "Queremos hacer un análisis más fino sobre la distribución de ventas ya no por estados sino por barrios; entendiendo por **barrio** a un barrio de CABA propiamente dicho o una localidad del Gran Buenos Aires. Para esto vamos a usar la columna *neighborhood* que obtuvimos previamente."
   ]
  },
  {
   "cell_type": "code",
   "execution_count": null,
   "metadata": {
    "collapsed": false
   },
   "outputs": [],
   "source": [
    "prop_localidad = prop_caba_gba['neighborhood'].value_counts().head(10)\n",
    "prop_localidad"
   ]
  },
  {
   "cell_type": "markdown",
   "metadata": {},
   "source": [
    "Si bien en el anĺisis previo la mayoría de las ventas se realiza en CABA, al hacer este segundo análisis más detallado nos encontramos que es la localidad de **Tigre** la que concentra el mayor número de transacciones."
   ]
  },
  {
   "cell_type": "code",
   "execution_count": null,
   "metadata": {
    "collapsed": false
   },
   "outputs": [],
   "source": [
    "plt.title('Top ventas por barrio', fontsize=20)\n",
    "plt.ylabel('Cantidad de ventas', fontsize=10)\n",
    "prop_localidad.plot('bar', rot=70, color='orange')"
   ]
  },
  {
   "cell_type": "markdown",
   "metadata": {},
   "source": [
    "## ¿Cuántas propiedades de cada tipo se venden?"
   ]
  },
  {
   "cell_type": "markdown",
   "metadata": {},
   "source": [
    "Nos interesa analizar si hay varios tipos de propiedad a la ventas y cuántos operaciones se concretan. Esto podría ayudarnos a predecir si existe algún tipo de preferencia a la hora de buscar una propiedad o el perfil del usuario."
   ]
  },
  {
   "cell_type": "code",
   "execution_count": null,
   "metadata": {
    "collapsed": false
   },
   "outputs": [],
   "source": [
    "prop_caba_gba['property_type'].value_counts()"
   ]
  },
  {
   "cell_type": "markdown",
   "metadata": {},
   "source": [
    "Según los datos obtenidos, se puede observar que la gran mayoría de las publicaciones son sobre Departamentos o Casas, quedando muy por detrás los PH y los comercios."
   ]
  },
  {
   "cell_type": "markdown",
   "metadata": {},
   "source": [
    "## ¿Influye el barrio en el valor de las propiedades?"
   ]
  },
  {
   "cell_type": "markdown",
   "metadata": {
    "collapsed": true
   },
   "source": [
    "Queremos ver el valor promedio de las propiedades en relación al barrio al cual pertenecen. Para no tener valores distorsionados filtramos los barrios que tengan menos de 50 ventas."
   ]
  },
  {
   "cell_type": "code",
   "execution_count": null,
   "metadata": {
    "collapsed": false
   },
   "outputs": [],
   "source": [
    "data = prop_caba_gba.loc[:,['neighborhood', 'price_aprox_usd']]\n",
    "data = data[data['neighborhood'] <> '']\n",
    "group_by_barrio = data.groupby('neighborhood').agg([np.mean, np.size])\n",
    "group_by_barrio = group_by_barrio.loc[group_by_barrio[('price_aprox_usd','size')] > 50].sort_values(('price_aprox_usd','mean'), ascending=False)\n",
    "group_by_barrio.head(10)"
   ]
  },
  {
   "cell_type": "code",
   "execution_count": null,
   "metadata": {
    "collapsed": false
   },
   "outputs": [],
   "source": [
    "data_barrio = prop_caba_gba.loc[:,['place_name', 'price_aprox_usd']]\n",
    "data_barrio.dropna(inplace=True)\n",
    "group_by_place = data_barrio.groupby('place_name').agg([np.mean, np.size])\n",
    "group_by_place = group_by_place.loc[group_by_place[('price_aprox_usd','size')] > 50]\\\n",
    "                 .sort_values(('price_aprox_usd','mean'), ascending=False)\n",
    "group_by_place.head(10)"
   ]
  },
  {
   "cell_type": "code",
   "execution_count": null,
   "metadata": {
    "collapsed": false
   },
   "outputs": [],
   "source": [
    "%matplotlib inline\n",
    "pl = group_by_place.loc[:,('price_aprox_usd','mean')].head(20).plot('bar', title = 'Precios por barrio', figsize=(15,10))\n",
    "pl.set_xlabel('Nombre del barrio', fontsize = 12)\n",
    "pl.set_ylabel('Precio promedio', fontsize = 12)\n",
    "pl.set_title('Precios por barrio', fontsize = 20);"
   ]
  },
  {
   "cell_type": "markdown",
   "metadata": {},
   "source": [
    "Podemos observar que los valores calculados se condicen con lo que uno pensaria, ya que vemos a Palermo y Puerto Madero en los primeros puestos. Luego se ven algunos barrios cerrados en la lista seguramente porque es un negocio particular de la inmobiliaria y tienen una muestra considerable."
   ]
  },
  {
   "cell_type": "markdown",
   "metadata": {},
   "source": [
    "### Cantidad de ventas de propiedades por año y mes"
   ]
  },
  {
   "cell_type": "code",
   "execution_count": null,
   "metadata": {
    "collapsed": false
   },
   "outputs": [],
   "source": [
    "ventas_por_anio = prop_caba_gba.groupby('year').count()['created_on']\n",
    "ventas_por_anio"
   ]
  },
  {
   "cell_type": "code",
   "execution_count": null,
   "metadata": {
    "collapsed": false
   },
   "outputs": [],
   "source": [
    "plt.title('Top ventas por anio', fontsize=20)\n",
    "plt.ylabel('Cantidad de ventas', fontsize=12)\n",
    "ventas_por_anio.plot('bar', color = 'green');"
   ]
  },
  {
   "cell_type": "code",
   "execution_count": null,
   "metadata": {
    "collapsed": true
   },
   "outputs": [],
   "source": [
    "ventas_por_mes = prop_caba_gba.groupby(['year', 'month']).count()['created_on']"
   ]
  },
  {
   "cell_type": "code",
   "execution_count": null,
   "metadata": {
    "collapsed": false
   },
   "outputs": [],
   "source": [
    "%matplotlib inline\n",
    "ventas_por_mes.plot('bar', title = 'Ventas por mes por anio', figsize=(15,10));"
   ]
  },
  {
   "cell_type": "markdown",
   "metadata": {},
   "source": [
    "### Tipos de propiedad vendidas"
   ]
  },
  {
   "cell_type": "code",
   "execution_count": null,
   "metadata": {
    "collapsed": true
   },
   "outputs": [],
   "source": [
    "ventas_por_tipo = prop_caba_gba.groupby(['year','property_type']).count()['created_on']"
   ]
  },
  {
   "cell_type": "code",
   "execution_count": null,
   "metadata": {
    "collapsed": false
   },
   "outputs": [],
   "source": [
    "%matplotlib inline\n",
    "ventas_por_tipo.plot('bar', title = 'Ventas por tipo por anio', figsize=(15,10));"
   ]
  },
  {
   "cell_type": "markdown",
   "metadata": {},
   "source": [
    "### Evolución de ventas de departamentos por año"
   ]
  },
  {
   "cell_type": "code",
   "execution_count": null,
   "metadata": {
    "collapsed": true
   },
   "outputs": [],
   "source": [
    "ventas_dptos = prop_caba_gba[prop_caba_gba['property_type'] == 'apartment']\n",
    "ventas_dptos = ventas_dptos.groupby(['year', 'month']).count()['created_on']"
   ]
  },
  {
   "cell_type": "code",
   "execution_count": null,
   "metadata": {
    "collapsed": false
   },
   "outputs": [],
   "source": [
    "%matplotlib inline\n",
    "ventas_dptos.plot('bar', title = 'Ventas de departamentos por anio', figsize=(15,10));"
   ]
  },
  {
   "cell_type": "markdown",
   "metadata": {},
   "source": [
    "# ¿Que pasa con Tigre y Zonas Aledañas?\n",
    "En graficos anteriores hemos visto que en la base de datos proporcionada por Properati tenemos una gran cantidad de ventas/publicaciones en el partido de Tigre. Debido a que uno de los integrantes del grupo vive en dicho partido, hemos investigado un poco y descubierto que la zona ha crecido mucho en los ultimos 25 años. Si bien no tenemos datos sobre los ultimos 25 años, con la base de datos propuesta haremos un analisis de la evolucion del precio del m2 en dicha zona intentando de sacar alguna tendencia. Para el analisis nos hemos propuesto comparar la evolucion de 3 zonas de Tigre ( Nordelta, Benavidez, Tigre Centro ) y de San Fernando partido aledaño a Tigre y que tambien ha crecido mucho en los ultimos años como alternativa a Tigre.\n",
    "Elegimos Nordelta ya que su crecimiento ha sido realmente exponencial y creemos que influye en el precio de zonas aledañas como es Tigre y Benavidez\n",
    "Eligmos San Fernando ya que entendemos que en los ultimos años ha sido buscado como alternativa a Tigre para vivir en zona norte.\n"
   ]
  },
  {
   "cell_type": "code",
   "execution_count": null,
   "metadata": {
    "collapsed": false
   },
   "outputs": [],
   "source": [
    "# Nos quedamos con las propiedades de Tigre, San Fernando, Nordelta, Benavidez\n",
    "# Debido a la poca cantidad de registros en 2012 lo excluiremos del analisis\n",
    "prop_zn = prop_caba_gba[(( prop_caba_gba['place_name'] == 'Nordelta' ) | ( prop_caba_gba['place_name'] == 'Tigre' ) | \\\n",
    "                        ( prop_caba_gba['place_name'] == 'San Fernando' ) | ( prop_caba_gba['place_name'] == 'Benavidez' )) \\\n",
    "                        & ( prop_caba_gba['year'] > 2013 )]\n",
    "\n",
    "# Nos quedamos con las columnas que nos interesan y borramos si tienen datos vacios\n",
    "prop_zn = prop_zn[['place_name', 'price_usd_per_m2', 'year']]\n",
    "prop_zn.dropna(inplace=True)\n",
    "\n",
    "prop_zn['place_name'].value_counts()\n"
   ]
  },
  {
   "cell_type": "code",
   "execution_count": null,
   "metadata": {
    "collapsed": false
   },
   "outputs": [],
   "source": [
    "# Hacemos un describe para ver la distribucion de los datos y si tenemos que filtrar algunos valores grandes o pequeños\n",
    "# que no introduzcan ruido en nuestro analisis\n",
    "print(prop_zn.describe())"
   ]
  },
  {
   "cell_type": "code",
   "execution_count": null,
   "metadata": {
    "collapsed": true
   },
   "outputs": [],
   "source": [
    "# De la ejecucion anterior notamos que tanto el max como el minimo son valores poco probables para \n",
    "# el precio del m2 por lo que filtraremos utilazando como criterio la distribucion de los datos\n",
    "prop_zn = prop_zn[(prop_zn['price_usd_per_m2'] > 300) & prop_zn['price_usd_per_m2'] < 3500]"
   ]
  },
  {
   "cell_type": "code",
   "execution_count": null,
   "metadata": {
    "collapsed": false
   },
   "outputs": [],
   "source": [
    "# Veamos la comparacion de precio promedio del metro cuadrado de Tigre vs San Fernando\n",
    "%matplotlib inline\n",
    "plt.figure()\n",
    "\n",
    "plt.title('Comparacion Precio Promedio', fontsize=20)\n",
    "plt.ylabel('Precio m2 Promedio', fontsize=10)\n",
    "plt.xlabel('Anio', fontsize=10)\n",
    "prop_zn.loc[prop_zn['place_name'] == 'Tigre' , ['place_name' , 'price_usd_per_m2','year'] ]\\\n",
    "             .groupby('year').mean()\\\n",
    "             .loc[:,'price_usd_per_m2']\\\n",
    "             .plot.line(c='y',   rot=90, xticks=range(2014,2017), linewidth=3,figsize=(16,8), alpha=1,label='Tigre');\n",
    "            \n",
    "prop_zn.loc[prop_zn['place_name'] == 'San Fernando' , ['place_name' , 'price_usd_per_m2','year'] ]\\\n",
    "             .groupby('year').mean()\\\n",
    "             .loc[:,'price_usd_per_m2']\\\n",
    "             .plot.line(c='g',   rot=90, xticks=range(2014,2017), linewidth=3,figsize=(16,8), alpha=1,label='San Fdo.');            \n",
    "            \n",
    "plt.legend();            "
   ]
  },
  {
   "cell_type": "markdown",
   "metadata": {},
   "source": [
    "## Datos Adicionales para utilizar en los algoritmos"
   ]
  },
  {
   "cell_type": "markdown",
   "metadata": {},
   "source": [
    "Para usar en el futuro con los algoritmos de predicción hicimos una búsqueda de datos adicionales que consideramos que pueden ser de utilidad. Por ejemplo una relación entre estaciones de subte/tren, escuelas, etc y el valor de las propiedades. Esto podría ser aplicado de forma relativamente sencilla con un algortimos de KNN luego de realizar un pre procesamiento de los datos."
   ]
  },
  {
   "cell_type": "markdown",
   "metadata": {},
   "source": [
    "## Comunas"
   ]
  },
  {
   "cell_type": "code",
   "execution_count": null,
   "metadata": {
    "collapsed": false
   },
   "outputs": [],
   "source": [
    "comunas = pd.read_csv('datasets/comunas.csv', sep=',', error_bad_lines=False, low_memory=False)\n",
    "comunas.info()"
   ]
  },
  {
   "cell_type": "code",
   "execution_count": null,
   "metadata": {
    "collapsed": false
   },
   "outputs": [],
   "source": [
    "comunas"
   ]
  },
  {
   "cell_type": "markdown",
   "metadata": {},
   "source": [
    "## Subtes"
   ]
  },
  {
   "cell_type": "code",
   "execution_count": null,
   "metadata": {
    "collapsed": false
   },
   "outputs": [],
   "source": [
    "subtes = pd.read_csv('datasets/estaciones-de-subte.csv', sep=',', error_bad_lines=False, low_memory=False)\n",
    "subtes.info()"
   ]
  },
  {
   "cell_type": "code",
   "execution_count": null,
   "metadata": {
    "collapsed": false
   },
   "outputs": [],
   "source": [
    "subtes.head(10)"
   ]
  },
  {
   "cell_type": "markdown",
   "metadata": {},
   "source": [
    "## Ferrocarriles"
   ]
  },
  {
   "cell_type": "code",
   "execution_count": null,
   "metadata": {
    "collapsed": false
   },
   "outputs": [],
   "source": [
    "ferrocarriles_caba = pd.read_csv('datasets/estaciones-de-ferrocarril.csv', sep=';', error_bad_lines=False, low_memory=False)\n",
    "ferrocarriles_caba.info()"
   ]
  },
  {
   "cell_type": "code",
   "execution_count": null,
   "metadata": {
    "collapsed": false
   },
   "outputs": [],
   "source": [
    "ferrocarriles_caba.head(10)"
   ]
  },
  {
   "cell_type": "markdown",
   "metadata": {},
   "source": [
    "## Espacios verdes públicos"
   ]
  },
  {
   "cell_type": "code",
   "execution_count": null,
   "metadata": {
    "collapsed": false
   },
   "outputs": [],
   "source": [
    "espacio_verde_caba = pd.read_csv('datasets/espacio-verde-publico.csv', sep=',', error_bad_lines=False, low_memory=False)\n",
    "espacio_verde_caba.info()"
   ]
  },
  {
   "cell_type": "code",
   "execution_count": null,
   "metadata": {
    "collapsed": false
   },
   "outputs": [],
   "source": [
    "espacio_verde_caba.head(10)"
   ]
  },
  {
   "cell_type": "markdown",
   "metadata": {},
   "source": [
    "## Establecimientos educativos"
   ]
  },
  {
   "cell_type": "code",
   "execution_count": null,
   "metadata": {
    "collapsed": false
   },
   "outputs": [],
   "source": [
    "establecimientos_educativos = pd.read_csv('datasets/establecimientos-educativos.csv', sep=';', error_bad_lines=False, low_memory=False)\n",
    "establecimientos_educativos.info()"
   ]
  },
  {
   "cell_type": "code",
   "execution_count": null,
   "metadata": {
    "collapsed": false
   },
   "outputs": [],
   "source": [
    "establecimientos_educativos.head(5)"
   ]
  },
  {
   "cell_type": "markdown",
   "metadata": {},
   "source": [
    "## Evolución del dolar"
   ]
  },
  {
   "cell_type": "code",
   "execution_count": null,
   "metadata": {
    "collapsed": false
   },
   "outputs": [],
   "source": [
    "evol_dolar = pd.read_csv('datasets/evol_dolar.csv', sep=',', error_bad_lines=False, low_memory=False)\n",
    "evol_dolar.info()"
   ]
  },
  {
   "cell_type": "code",
   "execution_count": null,
   "metadata": {
    "collapsed": true
   },
   "outputs": [],
   "source": [
    "# data_fecha = evol_dolar.set_index('Fecha')\n",
    "fecha_1 = dt.datetime(2013, 1, 1).strftime(\"%d/%m/%y\")\n",
    "evol_dolar = evol_dolar[evol_dolar['Fecha'] > fecha_1]\n",
    "evol_dolar[\"Fecha\"]=pd.to_datetime(evol_dolar[\"Fecha\"])\n",
    "evol_dolar = evol_dolar[evol_dolar['Fecha'] > '2013/01/01']"
   ]
  },
  {
   "cell_type": "code",
   "execution_count": null,
   "metadata": {
    "collapsed": false
   },
   "outputs": [],
   "source": [
    "evol_dolar_inf = evol_dolar[evol_dolar['Tipo de d\\xc3\\xb3lar'] == 'Informal']\n",
    "evol_dolar_inf.head(10)"
   ]
  },
  {
   "cell_type": "code",
   "execution_count": null,
   "metadata": {
    "collapsed": false
   },
   "outputs": [],
   "source": [
    "dolar_inf = evol_dolar_inf\n",
    "dolar_inf.loc[:,'year'] = pd.to_datetime(evol_dolar_inf.loc[:,'Fecha']).dt.year\n",
    "dolar_inf.loc[:,'month'] = pd.to_datetime(evol_dolar_inf.loc[:,'Fecha']).dt.month\n",
    "dolar_inf.head(10)"
   ]
  },
  {
   "cell_type": "code",
   "execution_count": null,
   "metadata": {
    "collapsed": false
   },
   "outputs": [],
   "source": [
    "%matplotlib inline\n",
    "ax = dolar_inf[['Precio de venta','Fecha']].plot(kind='line', title = 'Valor del dolar por fecha', figsize=(15,10))\n",
    "ax.set_xlabel(\"Fecha\",fontsize=12)\n",
    "plt.show()"
   ]
  },
  {
   "cell_type": "code",
   "execution_count": null,
   "metadata": {
    "collapsed": true
   },
   "outputs": [],
   "source": []
  }
 ],
 "metadata": {
  "kernelspec": {
   "display_name": "Python 2",
   "language": "python",
   "name": "python2"
  },
  "language_info": {
   "codemirror_mode": {
    "name": "ipython",
    "version": 2
   },
   "file_extension": ".py",
   "mimetype": "text/x-python",
   "name": "python",
   "nbconvert_exporter": "python",
   "pygments_lexer": "ipython2",
   "version": "2.7.11"
  }
 },
 "nbformat": 4,
 "nbformat_minor": 2
}
