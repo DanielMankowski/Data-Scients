{
 "cells": [
  {
   "cell_type": "markdown",
   "metadata": {},
   "source": [
    "![](./datasets/properati.png)\n",
    "# Análisis exploratorio de datos - Properati"
   ]
  },
  {
   "cell_type": "markdown",
   "metadata": {},
   "source": [
    "**Alumnos:**\n",
    "* Cabrera, Laura - 87696\n",
    "* Mankowski, Daniel - 84658\n",
    "* Rivas, Rafael\n",
    "* Rocha, Santiago - 85726\n",
    "\n",
    "**Link al repo en github:** https://github.com/DanielMankowski/Data-Scients"
   ]
  },
  {
   "cell_type": "code",
   "execution_count": 125,
   "metadata": {
    "collapsed": true
   },
   "outputs": [],
   "source": [
    "%matplotlib inline\n",
    "\n",
    "import datetime as dt\n",
    "import pandas as pd\n",
    "import numpy as np\n",
    "import matplotlib.pyplot as plt\n",
    "\n",
    "plt.style.use('default') # haciendo los graficos un poco mas bonitos xD\n",
    "plt.rcParams['figure.figsize'] = (15, 5)"
   ]
  },
  {
   "cell_type": "code",
   "execution_count": 126,
   "metadata": {
    "collapsed": false
   },
   "outputs": [
    {
     "name": "stdout",
     "output_type": "stream",
     "text": [
      "<class 'pandas.core.frame.DataFrame'>\n",
      "Int64Index: 187482 entries, 0 to 187481\n",
      "Data columns (total 27 columns):\n",
      "id                            187482 non-null object\n",
      "created_on                    187482 non-null object\n",
      "operation                     187482 non-null object\n",
      "property_type                 187482 non-null object\n",
      "place_name                    187447 non-null object\n",
      "place_with_parent_names       187482 non-null object\n",
      "country_name                  187482 non-null object\n",
      "state_name                    187482 non-null object\n",
      "geonames_id                   158318 non-null float64\n",
      "lat-lon                       118761 non-null object\n",
      "lat                           118761 non-null float64\n",
      "lon                           118761 non-null float64\n",
      "price                         154443 non-null float64\n",
      "currency                      154441 non-null object\n",
      "price_aprox_local_currency    154443 non-null float64\n",
      "price_aprox_usd               154443 non-null float64\n",
      "surface_total_in_m2           125027 non-null float64\n",
      "surface_covered_in_m2         152420 non-null float64\n",
      "price_usd_per_m2              105024 non-null float64\n",
      "price_per_m2                  131665 non-null float64\n",
      "floor                         14294 non-null float64\n",
      "rooms                         80320 non-null float64\n",
      "expenses                      17520 non-null float64\n",
      "properati_url                 187482 non-null object\n",
      "description                   187473 non-null object\n",
      "title                         187482 non-null object\n",
      "image_thumbnail               182814 non-null object\n",
      "dtypes: float64(13), object(14)\n",
      "memory usage: 40.1+ MB\n"
     ]
    }
   ],
   "source": [
    "# Levantamos los datos obtenidos de Properati\n",
    "propiedades = pd.read_csv('./datasets/properati-AR-2017-08-01-properties-sell.csv',sep=',',error_bad_lines=False,low_memory=False)\n",
    "propiedades.info()"
   ]
  },
  {
   "cell_type": "code",
   "execution_count": 127,
   "metadata": {
    "collapsed": false
   },
   "outputs": [
    {
     "data": {
      "text/html": [
       "<div>\n",
       "<table border=\"1\" class=\"dataframe\">\n",
       "  <thead>\n",
       "    <tr style=\"text-align: right;\">\n",
       "      <th></th>\n",
       "      <th>id</th>\n",
       "      <th>created_on</th>\n",
       "      <th>operation</th>\n",
       "      <th>property_type</th>\n",
       "      <th>place_name</th>\n",
       "      <th>place_with_parent_names</th>\n",
       "      <th>country_name</th>\n",
       "      <th>state_name</th>\n",
       "      <th>geonames_id</th>\n",
       "      <th>lat-lon</th>\n",
       "      <th>...</th>\n",
       "      <th>surface_covered_in_m2</th>\n",
       "      <th>price_usd_per_m2</th>\n",
       "      <th>price_per_m2</th>\n",
       "      <th>floor</th>\n",
       "      <th>rooms</th>\n",
       "      <th>expenses</th>\n",
       "      <th>properati_url</th>\n",
       "      <th>description</th>\n",
       "      <th>title</th>\n",
       "      <th>image_thumbnail</th>\n",
       "    </tr>\n",
       "  </thead>\n",
       "  <tbody>\n",
       "    <tr>\n",
       "      <th>130779</th>\n",
       "      <td>ec34f5ac372863293613acc32522bfa882e287e8</td>\n",
       "      <td>2017-07-19</td>\n",
       "      <td>sell</td>\n",
       "      <td>store</td>\n",
       "      <td>Beccar</td>\n",
       "      <td>|Argentina|Bs.As. G.B.A. Zona Norte|San Isidro...</td>\n",
       "      <td>Argentina</td>\n",
       "      <td>Bs.As. G.B.A. Zona Norte</td>\n",
       "      <td>3436080</td>\n",
       "      <td>NaN</td>\n",
       "      <td>...</td>\n",
       "      <td>314</td>\n",
       "      <td>NaN</td>\n",
       "      <td>1496.815287</td>\n",
       "      <td>NaN</td>\n",
       "      <td>NaN</td>\n",
       "      <td>NaN</td>\n",
       "      <td>http://www.properati.com.ar/1ab58_venta_local_...</td>\n",
       "      <td>Sobre Av. Rolón a metros de José Ingenieros, L...</td>\n",
       "      <td>Edificio Comercial - Beccar Alto</td>\n",
       "      <td>https://thumbs4.properati.com/3/QrSRDRFoueuDMd...</td>\n",
       "    </tr>\n",
       "  </tbody>\n",
       "</table>\n",
       "<p>1 rows × 27 columns</p>\n",
       "</div>"
      ],
      "text/plain": [
       "                                              id  created_on operation  \\\n",
       "130779  ec34f5ac372863293613acc32522bfa882e287e8  2017-07-19      sell   \n",
       "\n",
       "       property_type place_name  \\\n",
       "130779         store     Beccar   \n",
       "\n",
       "                                  place_with_parent_names country_name  \\\n",
       "130779  |Argentina|Bs.As. G.B.A. Zona Norte|San Isidro...    Argentina   \n",
       "\n",
       "                      state_name  geonames_id lat-lon  \\\n",
       "130779  Bs.As. G.B.A. Zona Norte      3436080     NaN   \n",
       "\n",
       "                              ...                          \\\n",
       "130779                        ...                           \n",
       "\n",
       "        surface_covered_in_m2  price_usd_per_m2  price_per_m2 floor  rooms  \\\n",
       "130779                    314               NaN   1496.815287   NaN    NaN   \n",
       "\n",
       "        expenses                                      properati_url  \\\n",
       "130779       NaN  http://www.properati.com.ar/1ab58_venta_local_...   \n",
       "\n",
       "                                              description  \\\n",
       "130779  Sobre Av. Rolón a metros de José Ingenieros, L...   \n",
       "\n",
       "                                   title  \\\n",
       "130779  Edificio Comercial - Beccar Alto   \n",
       "\n",
       "                                          image_thumbnail  \n",
       "130779  https://thumbs4.properati.com/3/QrSRDRFoueuDMd...  \n",
       "\n",
       "[1 rows x 27 columns]"
      ]
     },
     "execution_count": 127,
     "metadata": {},
     "output_type": "execute_result"
    }
   ],
   "source": [
    "# Vemos un registro como ejemplo del dataframe\n",
    "propiedades.sample()"
   ]
  },
  {
   "cell_type": "markdown",
   "metadata": {},
   "source": [
    "### Data Cleaning\n",
    "* Analizar los diferentes valores que puede tomar state_name para hacer el filtro correctamente y no perder información."
   ]
  },
  {
   "cell_type": "code",
   "execution_count": 128,
   "metadata": {
    "collapsed": false
   },
   "outputs": [
    {
     "data": {
      "text/plain": [
       "Capital Federal                 44152\n",
       "Bs.As. G.B.A. Zona Norte        39888\n",
       "Bs.As. G.B.A. Zona Oeste        22571\n",
       "Buenos Aires Costa Atlántica    20694\n",
       "Bs.As. G.B.A. Zona Sur          18135\n",
       "Córdoba                         15777\n",
       "Santa Fe                        13516\n",
       "Buenos Aires Interior            4686\n",
       "Río Negro                        1152\n",
       "Neuquén                          1057\n",
       "Mendoza                           927\n",
       "Misiones                          817\n",
       "Entre Ríos                        793\n",
       "Tucumán                           715\n",
       "Corrientes                        629\n",
       "San Luis                          444\n",
       "Salta                             372\n",
       "Chubut                            329\n",
       "La Pampa                          301\n",
       "Catamarca                         126\n",
       "Chaco                              95\n",
       "San Juan                           86\n",
       "Tierra Del Fuego                   69\n",
       "Formosa                            66\n",
       "Santa Cruz                         40\n",
       "Jujuy                              32\n",
       "La Rioja                            9\n",
       "Santiago Del Estero                 4\n",
       "Name: state_name, dtype: int64"
      ]
     },
     "execution_count": 128,
     "metadata": {},
     "output_type": "execute_result"
    }
   ],
   "source": [
    "propiedades.loc[:, 'state_name'].value_counts()"
   ]
  },
  {
   "cell_type": "markdown",
   "metadata": {},
   "source": [
    "* Agregar columnas de Año y Mes para futuros análisis"
   ]
  },
  {
   "cell_type": "code",
   "execution_count": 129,
   "metadata": {
    "collapsed": false,
    "scrolled": true
   },
   "outputs": [
    {
     "data": {
      "text/html": [
       "<div>\n",
       "<table border=\"1\" class=\"dataframe\">\n",
       "  <thead>\n",
       "    <tr style=\"text-align: right;\">\n",
       "      <th></th>\n",
       "      <th>id</th>\n",
       "      <th>created_on</th>\n",
       "      <th>operation</th>\n",
       "      <th>property_type</th>\n",
       "      <th>place_name</th>\n",
       "      <th>place_with_parent_names</th>\n",
       "      <th>country_name</th>\n",
       "      <th>state_name</th>\n",
       "      <th>geonames_id</th>\n",
       "      <th>lat-lon</th>\n",
       "      <th>...</th>\n",
       "      <th>price_per_m2</th>\n",
       "      <th>floor</th>\n",
       "      <th>rooms</th>\n",
       "      <th>expenses</th>\n",
       "      <th>properati_url</th>\n",
       "      <th>description</th>\n",
       "      <th>title</th>\n",
       "      <th>image_thumbnail</th>\n",
       "      <th>year</th>\n",
       "      <th>month</th>\n",
       "    </tr>\n",
       "  </thead>\n",
       "  <tbody>\n",
       "    <tr>\n",
       "      <th>79661</th>\n",
       "      <td>db5090607fa3c71a75efdc17a6d0ea83cafd4921</td>\n",
       "      <td>2017-03-20</td>\n",
       "      <td>sell</td>\n",
       "      <td>apartment</td>\n",
       "      <td>Mar del Plata</td>\n",
       "      <td>|Argentina|Buenos Aires Costa Atlántica|Mar de...</td>\n",
       "      <td>Argentina</td>\n",
       "      <td>Buenos Aires Costa Atlántica</td>\n",
       "      <td>3430863</td>\n",
       "      <td>-38.005795,-57.5449849</td>\n",
       "      <td>...</td>\n",
       "      <td>NaN</td>\n",
       "      <td>NaN</td>\n",
       "      <td>3</td>\n",
       "      <td>NaN</td>\n",
       "      <td>http://www.properati.com.ar/16ple_venta_depart...</td>\n",
       "      <td>Departamento 3 ambientes, Buenos Aires Costa A...</td>\n",
       "      <td>VENTA DEPARTAMENTO</td>\n",
       "      <td>https://thumbs4.properati.com/1/j5FLVUY_vReDqG...</td>\n",
       "      <td>2017</td>\n",
       "      <td>3</td>\n",
       "    </tr>\n",
       "  </tbody>\n",
       "</table>\n",
       "<p>1 rows × 29 columns</p>\n",
       "</div>"
      ],
      "text/plain": [
       "                                             id  created_on operation  \\\n",
       "79661  db5090607fa3c71a75efdc17a6d0ea83cafd4921  2017-03-20      sell   \n",
       "\n",
       "      property_type     place_name  \\\n",
       "79661     apartment  Mar del Plata   \n",
       "\n",
       "                                 place_with_parent_names country_name  \\\n",
       "79661  |Argentina|Buenos Aires Costa Atlántica|Mar de...    Argentina   \n",
       "\n",
       "                         state_name  geonames_id                 lat-lon  \\\n",
       "79661  Buenos Aires Costa Atlántica      3430863  -38.005795,-57.5449849   \n",
       "\n",
       "       ...    price_per_m2  floor  rooms expenses  \\\n",
       "79661  ...             NaN    NaN      3      NaN   \n",
       "\n",
       "                                           properati_url  \\\n",
       "79661  http://www.properati.com.ar/16ple_venta_depart...   \n",
       "\n",
       "                                             description               title  \\\n",
       "79661  Departamento 3 ambientes, Buenos Aires Costa A...  VENTA DEPARTAMENTO   \n",
       "\n",
       "                                         image_thumbnail  year  month  \n",
       "79661  https://thumbs4.properati.com/1/j5FLVUY_vReDqG...  2017      3  \n",
       "\n",
       "[1 rows x 29 columns]"
      ]
     },
     "execution_count": 129,
     "metadata": {},
     "output_type": "execute_result"
    }
   ],
   "source": [
    "propiedades.loc[:,'year'] = pd.to_datetime(propiedades.loc[:,'created_on']).dt.year\n",
    "propiedades.loc[:,'month'] = pd.to_datetime(propiedades.loc[:,'created_on']).dt.month\n",
    "propiedades.sample()"
   ]
  },
  {
   "cell_type": "markdown",
   "metadata": {},
   "source": [
    "* Filtrar las propiedades de CABA y GBA."
   ]
  },
  {
   "cell_type": "code",
   "execution_count": 130,
   "metadata": {
    "collapsed": false
   },
   "outputs": [
    {
     "data": {
      "text/html": [
       "<div>\n",
       "<table border=\"1\" class=\"dataframe\">\n",
       "  <thead>\n",
       "    <tr style=\"text-align: right;\">\n",
       "      <th></th>\n",
       "      <th>id</th>\n",
       "      <th>created_on</th>\n",
       "      <th>operation</th>\n",
       "      <th>property_type</th>\n",
       "      <th>place_name</th>\n",
       "      <th>place_with_parent_names</th>\n",
       "      <th>country_name</th>\n",
       "      <th>state_name</th>\n",
       "      <th>geonames_id</th>\n",
       "      <th>lat-lon</th>\n",
       "      <th>...</th>\n",
       "      <th>price_per_m2</th>\n",
       "      <th>floor</th>\n",
       "      <th>rooms</th>\n",
       "      <th>expenses</th>\n",
       "      <th>properati_url</th>\n",
       "      <th>description</th>\n",
       "      <th>title</th>\n",
       "      <th>image_thumbnail</th>\n",
       "      <th>year</th>\n",
       "      <th>month</th>\n",
       "    </tr>\n",
       "  </thead>\n",
       "  <tbody>\n",
       "    <tr>\n",
       "      <th>81861</th>\n",
       "      <td>e47bf51517f0f3a404b04a86d6018927f9852e27</td>\n",
       "      <td>2017-03-28</td>\n",
       "      <td>sell</td>\n",
       "      <td>house</td>\n",
       "      <td>Nordelta</td>\n",
       "      <td>|Argentina|Bs.As. G.B.A. Zona Norte|Tigre|Nord...</td>\n",
       "      <td>Argentina</td>\n",
       "      <td>Bs.As. G.B.A. Zona Norte</td>\n",
       "      <td>NaN</td>\n",
       "      <td>-34.4354185946,-58.6436058174</td>\n",
       "      <td>...</td>\n",
       "      <td>2018.43318</td>\n",
       "      <td>NaN</td>\n",
       "      <td>NaN</td>\n",
       "      <td>NaN</td>\n",
       "      <td>http://www.properati.com.ar/16wei_venta_casa_n...</td>\n",
       "      <td>Casa en Nordelta en venta Castaños.Ubicada en ...</td>\n",
       "      <td>Casa en Nordelta en venta Castaños</td>\n",
       "      <td>https://thumbs4.properati.com/8/sGZpy8pPlC95Hm...</td>\n",
       "      <td>2017</td>\n",
       "      <td>3</td>\n",
       "    </tr>\n",
       "  </tbody>\n",
       "</table>\n",
       "<p>1 rows × 29 columns</p>\n",
       "</div>"
      ],
      "text/plain": [
       "                                             id  created_on operation  \\\n",
       "81861  e47bf51517f0f3a404b04a86d6018927f9852e27  2017-03-28      sell   \n",
       "\n",
       "      property_type place_name  \\\n",
       "81861         house   Nordelta   \n",
       "\n",
       "                                 place_with_parent_names country_name  \\\n",
       "81861  |Argentina|Bs.As. G.B.A. Zona Norte|Tigre|Nord...    Argentina   \n",
       "\n",
       "                     state_name  geonames_id                        lat-lon  \\\n",
       "81861  Bs.As. G.B.A. Zona Norte          NaN  -34.4354185946,-58.6436058174   \n",
       "\n",
       "       ...    price_per_m2  floor  rooms expenses  \\\n",
       "81861  ...      2018.43318    NaN    NaN      NaN   \n",
       "\n",
       "                                           properati_url  \\\n",
       "81861  http://www.properati.com.ar/16wei_venta_casa_n...   \n",
       "\n",
       "                                             description  \\\n",
       "81861  Casa en Nordelta en venta Castaños.Ubicada en ...   \n",
       "\n",
       "                                    title  \\\n",
       "81861  Casa en Nordelta en venta Castaños   \n",
       "\n",
       "                                         image_thumbnail  year  month  \n",
       "81861  https://thumbs4.properati.com/8/sGZpy8pPlC95Hm...  2017      3  \n",
       "\n",
       "[1 rows x 29 columns]"
      ]
     },
     "execution_count": 130,
     "metadata": {},
     "output_type": "execute_result"
    }
   ],
   "source": [
    "# Como el enunciado lo indica nos quedamos con los datos de Capital Federal y Gran Buenos Aires\n",
    "prop_caba_gba = propiedades[propiedades['state_name'].str.contains('Capital Federal') | \\\n",
    "                            propiedades['state_name'].str.contains('G.B.A.')]\n",
    "prop_caba_gba.sample()"
   ]
  },
  {
   "cell_type": "markdown",
   "metadata": {},
   "source": [
    "* Agregar una columna con el Barrio o Partido de la propiedad "
   ]
  },
  {
   "cell_type": "code",
   "execution_count": 131,
   "metadata": {
    "collapsed": false,
    "scrolled": true
   },
   "outputs": [],
   "source": [
    "def parsear_zona(row):\n",
    "    mylist = row.loc['place_with_parent_names'].split(\"|\")\n",
    "    return mylist[3]\n",
    "\n",
    "prop_caba_gba.loc[:,'neighborhood'] = prop_caba_gba.apply(parsear_zona, axis=1)   "
   ]
  },
  {
   "cell_type": "code",
   "execution_count": 132,
   "metadata": {
    "collapsed": false
   },
   "outputs": [
    {
     "data": {
      "text/html": [
       "<div>\n",
       "<table border=\"1\" class=\"dataframe\">\n",
       "  <thead>\n",
       "    <tr style=\"text-align: right;\">\n",
       "      <th></th>\n",
       "      <th>id</th>\n",
       "      <th>created_on</th>\n",
       "      <th>operation</th>\n",
       "      <th>property_type</th>\n",
       "      <th>place_name</th>\n",
       "      <th>place_with_parent_names</th>\n",
       "      <th>country_name</th>\n",
       "      <th>state_name</th>\n",
       "      <th>geonames_id</th>\n",
       "      <th>lat-lon</th>\n",
       "      <th>...</th>\n",
       "      <th>floor</th>\n",
       "      <th>rooms</th>\n",
       "      <th>expenses</th>\n",
       "      <th>properati_url</th>\n",
       "      <th>description</th>\n",
       "      <th>title</th>\n",
       "      <th>image_thumbnail</th>\n",
       "      <th>year</th>\n",
       "      <th>month</th>\n",
       "      <th>neighborhood</th>\n",
       "    </tr>\n",
       "  </thead>\n",
       "  <tbody>\n",
       "    <tr>\n",
       "      <th>0</th>\n",
       "      <td>c8a66ee9e3da083ab66dacd165e8a5cc718b1cf2</td>\n",
       "      <td>2012-09-19</td>\n",
       "      <td>sell</td>\n",
       "      <td>house</td>\n",
       "      <td>San Antonio De Padua</td>\n",
       "      <td>|Argentina|Bs.As. G.B.A. Zona Oeste|Merlo|San ...</td>\n",
       "      <td>Argentina</td>\n",
       "      <td>Bs.As. G.B.A. Zona Oeste</td>\n",
       "      <td>3429244</td>\n",
       "      <td>NaN</td>\n",
       "      <td>...</td>\n",
       "      <td>NaN</td>\n",
       "      <td>NaN</td>\n",
       "      <td>NaN</td>\n",
       "      <td>http://www.properati.com.ar/udh_venta_casa_mer...</td>\n",
       "      <td>CASA CON LOCAL EN VENTA EN PADUA.2 DORMITORIOS...</td>\n",
       "      <td>CASA EN VENTA</td>\n",
       "      <td>https://thumbs4.properati.com/1/ufoyqwscVk8n3e...</td>\n",
       "      <td>2012</td>\n",
       "      <td>9</td>\n",
       "      <td>Merlo</td>\n",
       "    </tr>\n",
       "    <tr>\n",
       "      <th>1</th>\n",
       "      <td>a205c53378e7879cf7519659317fb410c060d20e</td>\n",
       "      <td>2012-10-22</td>\n",
       "      <td>sell</td>\n",
       "      <td>house</td>\n",
       "      <td>San Antonio De Padua</td>\n",
       "      <td>|Argentina|Bs.As. G.B.A. Zona Oeste|Merlo|San ...</td>\n",
       "      <td>Argentina</td>\n",
       "      <td>Bs.As. G.B.A. Zona Oeste</td>\n",
       "      <td>3429244</td>\n",
       "      <td>NaN</td>\n",
       "      <td>...</td>\n",
       "      <td>NaN</td>\n",
       "      <td>NaN</td>\n",
       "      <td>NaN</td>\n",
       "      <td>http://www.properati.com.ar/20hi_venta_casa_me...</td>\n",
       "      <td>CHALET VENTA 4 AMBIENTES PADUA.EXCELENTE CHALE...</td>\n",
       "      <td>CASA EN VENTA</td>\n",
       "      <td>https://thumbs4.properati.com/5/I5RS_jAIUseo9H...</td>\n",
       "      <td>2012</td>\n",
       "      <td>10</td>\n",
       "      <td>Merlo</td>\n",
       "    </tr>\n",
       "    <tr>\n",
       "      <th>4</th>\n",
       "      <td>9446052c949050359fb08b9f1ba83ba2eaa20c99</td>\n",
       "      <td>2012-12-08</td>\n",
       "      <td>sell</td>\n",
       "      <td>house</td>\n",
       "      <td>Mataderos</td>\n",
       "      <td>|Argentina|Capital Federal|Mataderos|</td>\n",
       "      <td>Argentina</td>\n",
       "      <td>Capital Federal</td>\n",
       "      <td>3430787</td>\n",
       "      <td>-34.6544492346,-58.4895603251</td>\n",
       "      <td>...</td>\n",
       "      <td>NaN</td>\n",
       "      <td>5</td>\n",
       "      <td>NaN</td>\n",
       "      <td>http://www.properati.com.ar/4m4m_venta_casa_ma...</td>\n",
       "      <td>Casa Multifamiliar en Mataderos!!! Sobre lote ...</td>\n",
       "      <td>CASA EN VENTA</td>\n",
       "      <td>https://thumbs4.properati.com/6/DsNJjCb5_zIPV0...</td>\n",
       "      <td>2012</td>\n",
       "      <td>12</td>\n",
       "      <td>Mataderos</td>\n",
       "    </tr>\n",
       "    <tr>\n",
       "      <th>5</th>\n",
       "      <td>4d3b492ed5f9c74cdf33b56b98328e5c950e3f9c</td>\n",
       "      <td>2013-01-04</td>\n",
       "      <td>sell</td>\n",
       "      <td>apartment</td>\n",
       "      <td>Pilar</td>\n",
       "      <td>|Argentina|Bs.As. G.B.A. Zona Norte|Pilar|</td>\n",
       "      <td>Argentina</td>\n",
       "      <td>Bs.As. G.B.A. Zona Norte</td>\n",
       "      <td>3429979</td>\n",
       "      <td>-34.429071,-58.795418</td>\n",
       "      <td>...</td>\n",
       "      <td>NaN</td>\n",
       "      <td>2</td>\n",
       "      <td>NaN</td>\n",
       "      <td>http://www.properati.com.ar/518a_venta_departa...</td>\n",
       "      <td>Venta - Departamento - Argentina, Buenos Aires...</td>\n",
       "      <td>Departamento en Venta ubicado en Arcos de Pilar</td>\n",
       "      <td>https://thumbs4.properati.com/8/bJn9FqcBRGi_8H...</td>\n",
       "      <td>2013</td>\n",
       "      <td>1</td>\n",
       "      <td>Pilar</td>\n",
       "    </tr>\n",
       "    <tr>\n",
       "      <th>6</th>\n",
       "      <td>535441f569473f6e5d687c38b27d9b9c6e69e284</td>\n",
       "      <td>2013-01-09</td>\n",
       "      <td>sell</td>\n",
       "      <td>store</td>\n",
       "      <td>San Isidro</td>\n",
       "      <td>|Argentina|Bs.As. G.B.A. Zona Norte|San Isidro|</td>\n",
       "      <td>Argentina</td>\n",
       "      <td>Bs.As. G.B.A. Zona Norte</td>\n",
       "      <td>3428983</td>\n",
       "      <td>-34.4789383,-58.5214371</td>\n",
       "      <td>...</td>\n",
       "      <td>NaN</td>\n",
       "      <td>1</td>\n",
       "      <td>NaN</td>\n",
       "      <td>http://www.properati.com.ar/52p4_venta_local_s...</td>\n",
       "      <td>Venta - Local - Argentina, Buenos Aires, Zona ...</td>\n",
       "      <td>Local en Venta ubicado en San Isidro</td>\n",
       "      <td>https://thumbs4.properati.com/9/ZCK2RkrsymyN5s...</td>\n",
       "      <td>2013</td>\n",
       "      <td>1</td>\n",
       "      <td>San Isidro</td>\n",
       "    </tr>\n",
       "  </tbody>\n",
       "</table>\n",
       "<p>5 rows × 30 columns</p>\n",
       "</div>"
      ],
      "text/plain": [
       "                                         id  created_on operation  \\\n",
       "0  c8a66ee9e3da083ab66dacd165e8a5cc718b1cf2  2012-09-19      sell   \n",
       "1  a205c53378e7879cf7519659317fb410c060d20e  2012-10-22      sell   \n",
       "4  9446052c949050359fb08b9f1ba83ba2eaa20c99  2012-12-08      sell   \n",
       "5  4d3b492ed5f9c74cdf33b56b98328e5c950e3f9c  2013-01-04      sell   \n",
       "6  535441f569473f6e5d687c38b27d9b9c6e69e284  2013-01-09      sell   \n",
       "\n",
       "  property_type            place_name  \\\n",
       "0         house  San Antonio De Padua   \n",
       "1         house  San Antonio De Padua   \n",
       "4         house             Mataderos   \n",
       "5     apartment                 Pilar   \n",
       "6         store            San Isidro   \n",
       "\n",
       "                             place_with_parent_names country_name  \\\n",
       "0  |Argentina|Bs.As. G.B.A. Zona Oeste|Merlo|San ...    Argentina   \n",
       "1  |Argentina|Bs.As. G.B.A. Zona Oeste|Merlo|San ...    Argentina   \n",
       "4              |Argentina|Capital Federal|Mataderos|    Argentina   \n",
       "5         |Argentina|Bs.As. G.B.A. Zona Norte|Pilar|    Argentina   \n",
       "6    |Argentina|Bs.As. G.B.A. Zona Norte|San Isidro|    Argentina   \n",
       "\n",
       "                 state_name  geonames_id                        lat-lon  \\\n",
       "0  Bs.As. G.B.A. Zona Oeste      3429244                            NaN   \n",
       "1  Bs.As. G.B.A. Zona Oeste      3429244                            NaN   \n",
       "4           Capital Federal      3430787  -34.6544492346,-58.4895603251   \n",
       "5  Bs.As. G.B.A. Zona Norte      3429979          -34.429071,-58.795418   \n",
       "6  Bs.As. G.B.A. Zona Norte      3428983        -34.4789383,-58.5214371   \n",
       "\n",
       "       ...       floor  rooms  expenses  \\\n",
       "0      ...         NaN    NaN       NaN   \n",
       "1      ...         NaN    NaN       NaN   \n",
       "4      ...         NaN      5       NaN   \n",
       "5      ...         NaN      2       NaN   \n",
       "6      ...         NaN      1       NaN   \n",
       "\n",
       "                                       properati_url  \\\n",
       "0  http://www.properati.com.ar/udh_venta_casa_mer...   \n",
       "1  http://www.properati.com.ar/20hi_venta_casa_me...   \n",
       "4  http://www.properati.com.ar/4m4m_venta_casa_ma...   \n",
       "5  http://www.properati.com.ar/518a_venta_departa...   \n",
       "6  http://www.properati.com.ar/52p4_venta_local_s...   \n",
       "\n",
       "                                         description  \\\n",
       "0  CASA CON LOCAL EN VENTA EN PADUA.2 DORMITORIOS...   \n",
       "1  CHALET VENTA 4 AMBIENTES PADUA.EXCELENTE CHALE...   \n",
       "4  Casa Multifamiliar en Mataderos!!! Sobre lote ...   \n",
       "5  Venta - Departamento - Argentina, Buenos Aires...   \n",
       "6  Venta - Local - Argentina, Buenos Aires, Zona ...   \n",
       "\n",
       "                                             title  \\\n",
       "0                                    CASA EN VENTA   \n",
       "1                                    CASA EN VENTA   \n",
       "4                                    CASA EN VENTA   \n",
       "5  Departamento en Venta ubicado en Arcos de Pilar   \n",
       "6             Local en Venta ubicado en San Isidro   \n",
       "\n",
       "                                     image_thumbnail  year  month  \\\n",
       "0  https://thumbs4.properati.com/1/ufoyqwscVk8n3e...  2012      9   \n",
       "1  https://thumbs4.properati.com/5/I5RS_jAIUseo9H...  2012     10   \n",
       "4  https://thumbs4.properati.com/6/DsNJjCb5_zIPV0...  2012     12   \n",
       "5  https://thumbs4.properati.com/8/bJn9FqcBRGi_8H...  2013      1   \n",
       "6  https://thumbs4.properati.com/9/ZCK2RkrsymyN5s...  2013      1   \n",
       "\n",
       "   neighborhood  \n",
       "0         Merlo  \n",
       "1         Merlo  \n",
       "4     Mataderos  \n",
       "5         Pilar  \n",
       "6    San Isidro  \n",
       "\n",
       "[5 rows x 30 columns]"
      ]
     },
     "execution_count": 132,
     "metadata": {},
     "output_type": "execute_result"
    }
   ],
   "source": [
    "# Vista final de cómo quedó el DataFrame\n",
    "prop_caba_gba.head()"
   ]
  },
  {
   "cell_type": "markdown",
   "metadata": {},
   "source": [
    "## ¿Cuántas propiedades se vendieron por estado?"
   ]
  },
  {
   "cell_type": "markdown",
   "metadata": {},
   "source": [
    "Entendemos como **Estado** a Capital Federal o cada una de las 3 regiones del Gran Buenos Aires. Una primera vista nos permite tener una idea de cómo se dividió la cantidad de ventas de propiedades entre estos cuatro estados."
   ]
  },
  {
   "cell_type": "code",
   "execution_count": 133,
   "metadata": {
    "collapsed": false,
    "scrolled": true
   },
   "outputs": [
    {
     "data": {
      "text/plain": [
       "Capital Federal             44152\n",
       "Bs.As. G.B.A. Zona Norte    39888\n",
       "Bs.As. G.B.A. Zona Oeste    22571\n",
       "Bs.As. G.B.A. Zona Sur      18135\n",
       "Name: state_name, dtype: int64"
      ]
     },
     "execution_count": 133,
     "metadata": {},
     "output_type": "execute_result"
    }
   ],
   "source": [
    "prop_barrio = prop_caba_gba['state_name'].value_counts()\n",
    "prop_barrio"
   ]
  },
  {
   "cell_type": "code",
   "execution_count": 134,
   "metadata": {
    "collapsed": false
   },
   "outputs": [
    {
     "data": {
      "image/png": "[encoded data removed]",
      "text/plain": [
       "<matplotlib.figure.Figure at 0x7f7478f53550>"
      ]
     },
     "metadata": {},
     "output_type": "display_data"
    }
   ],
   "source": [
    "plt.figure()\n",
    "colors = ['steelblue', 'seagreen', 'palegoldenrod', 'lightcoral']\n",
    "plt.title('Porcentaje de ventas por estado', fontsize=20)\n",
    "prop_barrio.plot.pie(figsize=(7, 7), colors = colors, autopct='%1.2f%%', startangle=20);\n"
   ]
  },
  {
   "cell_type": "markdown",
   "metadata": {},
   "source": [
    "Podemos observar que la mayoría de las ventas se producen en CABA en su totalidad y la Zona Norte del Gran Buenos Aires."
   ]
  },
  {
   "cell_type": "markdown",
   "metadata": {},
   "source": [
    "### ¿Cuáles son los barrio en donde se produce el mayor número de ventas?"
   ]
  },
  {
   "cell_type": "markdown",
   "metadata": {},
   "source": [
    "Queremos hacer un análisis más fino sobre la distribución de ventas ya no por estados sino por barrios; entendiendo por **barrio** a un barrio de CABA propiamente dicho o una localidad del Gran Buenos Aires. Para esto vamos a usar la columna *neighborhood* que obtuvimos previamente."
   ]
  },
  {
   "cell_type": "code",
   "execution_count": 135,
   "metadata": {
    "collapsed": false
   },
   "outputs": [
    {
     "data": {
      "text/plain": [
       "Tigre              13594\n",
       "La Matanza          7947\n",
       "Morón               5926\n",
       "Palermo             5383\n",
       "Vicente López       5218\n",
       "San Isidro          5011\n",
       "Pilar               4701\n",
       "La Plata            4326\n",
       "Lomas de Zamora     3828\n",
       "Belgrano            3796\n",
       "Name: neighborhood, dtype: int64"
      ]
     },
     "execution_count": 135,
     "metadata": {},
     "output_type": "execute_result"
    }
   ],
   "source": [
    "prop_localidad = prop_caba_gba['neighborhood'].value_counts().head(10)\n",
    "prop_localidad"
   ]
  },
  {
   "cell_type": "markdown",
   "metadata": {},
   "source": [
    "Si bien en el anĺisis previo la mayoría de las ventas se realiza en CABA, al hacer este segundo análisis más detallado nos encontramos que es la localidad de **Tigre** la que concentra el mayor número de transacciones."
   ]
  },
  {
   "cell_type": "code",
   "execution_count": 136,
   "metadata": {
    "collapsed": false
   },
   "outputs": [
    {
     "data": {
      "text/plain": [
       "<matplotlib.axes._subplots.AxesSubplot at 0x7f748230c9d0>"
      ]
     },
     "execution_count": 136,
     "metadata": {},
     "output_type": "execute_result"
    },
    {
     "data": {
      "image/png": "[encoded data removed]",
      "text/plain": [
       "<matplotlib.figure.Figure at 0x7f74794ec1d0>"
      ]
     },
     "metadata": {},
     "output_type": "display_data"
    }
   ],
   "source": [
    "plt.title('Top ventas por barrio', fontsize=20)\n",
    "plt.ylabel('Cantidad de ventas', fontsize=10)\n",
    "prop_localidad.plot('bar', rot=70, color='orange')"
   ]
  },
  {
   "cell_type": "markdown",
   "metadata": {},
   "source": [
    "## ¿Cuántas propiedades de cada tipo se venden?"
   ]
  },
  {
   "cell_type": "markdown",
   "metadata": {},
   "source": [
    "Nos interesa analizar si hay varios tipos de propiedad a la ventas y cuántos operaciones se concretan. Esto podría ayudarnos a predecir si existe algún tipo de preferencia a la hora de buscar una propiedad o el perfil del usuario."
   ]
  },
  {
   "cell_type": "code",
   "execution_count": 137,
   "metadata": {
    "collapsed": false
   },
   "outputs": [
    {
     "data": {
      "text/plain": [
       "apartment    68826\n",
       "house        44258\n",
       "PH            7045\n",
       "store         4617\n",
       "Name: property_type, dtype: int64"
      ]
     },
     "execution_count": 137,
     "metadata": {},
     "output_type": "execute_result"
    }
   ],
   "source": [
    "prop_caba_gba['property_type'].value_counts()"
   ]
  },
  {
   "cell_type": "markdown",
   "metadata": {},
   "source": [
    "Según los datos obtenidos, se puede observar que la gran mayoría de las publicaciones son sobre Departamentos o Casas, quedando muy por detrás los PH y los comercios."
   ]
  },
  {
   "cell_type": "markdown",
   "metadata": {},
   "source": [
    "## ¿Influye el barrio en el valor de las propiedades?"
   ]
  },
  {
   "cell_type": "markdown",
   "metadata": {
    "collapsed": true
   },
   "source": [
    "Queremos ver el valor promedio de las propiedades en relación al barrio al cual pertenecen. Para no tener valores distorsionados filtramos los barrios que tengan menos de 50 ventas."
   ]
  },
  {
   "cell_type": "code",
   "execution_count": 138,
   "metadata": {
    "collapsed": false
   },
   "outputs": [
    {
     "data": {
      "text/html": [
       "<div>\n",
       "<table border=\"1\" class=\"dataframe\">\n",
       "  <thead>\n",
       "    <tr>\n",
       "      <th></th>\n",
       "      <th colspan=\"2\" halign=\"left\">price_aprox_usd</th>\n",
       "    </tr>\n",
       "    <tr>\n",
       "      <th></th>\n",
       "      <th>mean</th>\n",
       "      <th>size</th>\n",
       "    </tr>\n",
       "    <tr>\n",
       "      <th>neighborhood</th>\n",
       "      <th></th>\n",
       "      <th></th>\n",
       "    </tr>\n",
       "  </thead>\n",
       "  <tbody>\n",
       "    <tr>\n",
       "      <th>Puerto Madero</th>\n",
       "      <td>933102.405806</td>\n",
       "      <td>1146</td>\n",
       "    </tr>\n",
       "    <tr>\n",
       "      <th>San Isidro</th>\n",
       "      <td>453277.572763</td>\n",
       "      <td>5011</td>\n",
       "    </tr>\n",
       "    <tr>\n",
       "      <th>Recoleta</th>\n",
       "      <td>451190.720953</td>\n",
       "      <td>2068</td>\n",
       "    </tr>\n",
       "    <tr>\n",
       "      <th>Retiro</th>\n",
       "      <td>395079.866257</td>\n",
       "      <td>393</td>\n",
       "    </tr>\n",
       "    <tr>\n",
       "      <th>Tigre</th>\n",
       "      <td>381874.766485</td>\n",
       "      <td>13594</td>\n",
       "    </tr>\n",
       "    <tr>\n",
       "      <th>Belgrano</th>\n",
       "      <td>378185.525543</td>\n",
       "      <td>3796</td>\n",
       "    </tr>\n",
       "    <tr>\n",
       "      <th>Palermo</th>\n",
       "      <td>372118.074596</td>\n",
       "      <td>5383</td>\n",
       "    </tr>\n",
       "    <tr>\n",
       "      <th>Nuñez</th>\n",
       "      <td>370172.824995</td>\n",
       "      <td>1009</td>\n",
       "    </tr>\n",
       "    <tr>\n",
       "      <th>General Rodríguez</th>\n",
       "      <td>364753.685656</td>\n",
       "      <td>265</td>\n",
       "    </tr>\n",
       "    <tr>\n",
       "      <th>Las Cañitas</th>\n",
       "      <td>348438.882353</td>\n",
       "      <td>226</td>\n",
       "    </tr>\n",
       "  </tbody>\n",
       "</table>\n",
       "</div>"
      ],
      "text/plain": [
       "                  price_aprox_usd       \n",
       "                             mean   size\n",
       "neighborhood                            \n",
       "Puerto Madero       933102.405806   1146\n",
       "San Isidro          453277.572763   5011\n",
       "Recoleta            451190.720953   2068\n",
       "Retiro              395079.866257    393\n",
       "Tigre               381874.766485  13594\n",
       "Belgrano            378185.525543   3796\n",
       "Palermo             372118.074596   5383\n",
       "Nuñez               370172.824995   1009\n",
       "General Rodríguez   364753.685656    265\n",
       "Las Cañitas         348438.882353    226"
      ]
     },
     "execution_count": 138,
     "metadata": {},
     "output_type": "execute_result"
    }
   ],
   "source": [
    "data = prop_caba_gba.loc[:,['neighborhood', 'price_aprox_usd']]\n",
    "data = data[data['neighborhood'] <> '']\n",
    "group_by_barrio = data.groupby('neighborhood').agg([np.mean, np.size])\n",
    "group_by_barrio = group_by_barrio.loc[group_by_barrio[('price_aprox_usd','size')] > 50]\\\n",
    "                  .sort_values(('price_aprox_usd','mean'), ascending=False)\n",
    "group_by_barrio.head(10)"
   ]
  },
  {
   "cell_type": "code",
   "execution_count": 139,
   "metadata": {
    "collapsed": false
   },
   "outputs": [
    {
     "data": {
      "text/html": [
       "<div>\n",
       "<table border=\"1\" class=\"dataframe\">\n",
       "  <thead>\n",
       "    <tr>\n",
       "      <th></th>\n",
       "      <th colspan=\"2\" halign=\"left\">price_aprox_usd</th>\n",
       "    </tr>\n",
       "    <tr>\n",
       "      <th></th>\n",
       "      <th>mean</th>\n",
       "      <th>size</th>\n",
       "    </tr>\n",
       "    <tr>\n",
       "      <th>place_name</th>\n",
       "      <th></th>\n",
       "      <th></th>\n",
       "    </tr>\n",
       "  </thead>\n",
       "  <tbody>\n",
       "    <tr>\n",
       "      <th>Palermo Chico</th>\n",
       "      <td>1084513.340741</td>\n",
       "      <td>270</td>\n",
       "    </tr>\n",
       "    <tr>\n",
       "      <th>Puerto Madero</th>\n",
       "      <td>933102.405806</td>\n",
       "      <td>1030</td>\n",
       "    </tr>\n",
       "    <tr>\n",
       "      <th>Santa Barbara Barrio Cerrado</th>\n",
       "      <td>781538.260870</td>\n",
       "      <td>115</td>\n",
       "    </tr>\n",
       "    <tr>\n",
       "      <th>Acassuso</th>\n",
       "      <td>710082.134571</td>\n",
       "      <td>431</td>\n",
       "    </tr>\n",
       "    <tr>\n",
       "      <th>Barrio Los Lagos</th>\n",
       "      <td>615116.129032</td>\n",
       "      <td>62</td>\n",
       "    </tr>\n",
       "    <tr>\n",
       "      <th>Mayling Club de Campo</th>\n",
       "      <td>542988.764045</td>\n",
       "      <td>89</td>\n",
       "    </tr>\n",
       "    <tr>\n",
       "      <th>Martínez</th>\n",
       "      <td>472497.768105</td>\n",
       "      <td>1689</td>\n",
       "    </tr>\n",
       "    <tr>\n",
       "      <th>Capital Federal</th>\n",
       "      <td>464895.209311</td>\n",
       "      <td>1800</td>\n",
       "    </tr>\n",
       "    <tr>\n",
       "      <th>Recoleta</th>\n",
       "      <td>451190.720953</td>\n",
       "      <td>1889</td>\n",
       "    </tr>\n",
       "    <tr>\n",
       "      <th>Vicente López</th>\n",
       "      <td>449455.756631</td>\n",
       "      <td>929</td>\n",
       "    </tr>\n",
       "  </tbody>\n",
       "</table>\n",
       "</div>"
      ],
      "text/plain": [
       "                             price_aprox_usd      \n",
       "                                        mean  size\n",
       "place_name                                        \n",
       "Palermo Chico                 1084513.340741   270\n",
       "Puerto Madero                  933102.405806  1030\n",
       "Santa Barbara Barrio Cerrado   781538.260870   115\n",
       "Acassuso                       710082.134571   431\n",
       "Barrio Los Lagos               615116.129032    62\n",
       "Mayling Club de Campo          542988.764045    89\n",
       "Martínez                       472497.768105  1689\n",
       "Capital Federal                464895.209311  1800\n",
       "Recoleta                       451190.720953  1889\n",
       "Vicente López                  449455.756631   929"
      ]
     },
     "execution_count": 139,
     "metadata": {},
     "output_type": "execute_result"
    }
   ],
   "source": [
    "data_barrio = prop_caba_gba.loc[:,['place_name', 'price_aprox_usd']]\n",
    "data_barrio.dropna(inplace=True)\n",
    "group_by_place = data_barrio.groupby('place_name').agg([np.mean, np.size])\n",
    "group_by_place = group_by_place.loc[group_by_place[('price_aprox_usd','size')] > 50]\\\n",
    "                 .sort_values(('price_aprox_usd','mean'), ascending=False)\n",
    "group_by_place.head(10)"
   ]
  },
  {
   "cell_type": "code",
   "execution_count": 140,
   "metadata": {
    "collapsed": false
   },
   "outputs": [
    {
     "data": {
      "image/png": "[encoded data removed]",
      "text/plain": [
       "<matplotlib.figure.Figure at 0x7f7481ef59d0>"
      ]
     },
     "metadata": {},
     "output_type": "display_data"
    }
   ],
   "source": [
    "%matplotlib inline\n",
    "pl = group_by_place.loc[:,('price_aprox_usd','mean')].head(20).plot('bar', title = 'Precios por barrio', figsize=(15,10))\n",
    "pl.set_xlabel('Nombre del barrio', fontsize = 12)\n",
    "pl.set_ylabel('Precio promedio', fontsize = 12)\n",
    "pl.set_title('Precios por barrio', fontsize = 20);"
   ]
  },
  {
   "cell_type": "markdown",
   "metadata": {},
   "source": [
    "Podemos observar que los valores calculados se condicen con lo que uno pensaria, ya que vemos a Palermo y Puerto Madero en los primeros puestos. Luego se ven algunos barrios cerrados en la lista seguramente porque es un negocio particular de la inmobiliaria y tienen una muestra considerable."
   ]
  },
  {
   "cell_type": "markdown",
   "metadata": {},
   "source": [
    "### Cantidad de ventas de propiedades por año y mes"
   ]
  },
  {
   "cell_type": "code",
   "execution_count": 141,
   "metadata": {
    "collapsed": false
   },
   "outputs": [
    {
     "data": {
      "text/plain": [
       "year\n",
       "2012        3\n",
       "2013      417\n",
       "2014     4348\n",
       "2015    10208\n",
       "2016    24730\n",
       "2017    85040\n",
       "Name: created_on, dtype: int64"
      ]
     },
     "execution_count": 141,
     "metadata": {},
     "output_type": "execute_result"
    }
   ],
   "source": [
    "ventas_por_anio = prop_caba_gba.groupby('year').count()['created_on']\n",
    "ventas_por_anio"
   ]
  },
  {
   "cell_type": "code",
   "execution_count": 142,
   "metadata": {
    "collapsed": false
   },
   "outputs": [
    {
     "data": {
      "image/png": "[encoded data removed]",
      "text/plain": [
       "<matplotlib.figure.Figure at 0x7f74811cf850>"
      ]
     },
     "metadata": {},
     "output_type": "display_data"
    }
   ],
   "source": [
    "plt.title('Top ventas por anio', fontsize=20)\n",
    "plt.ylabel('Cantidad de ventas', fontsize=12)\n",
    "ventas_por_anio.plot('bar', color = 'green');"
   ]
  },
  {
   "cell_type": "code",
   "execution_count": 143,
   "metadata": {
    "collapsed": true
   },
   "outputs": [],
   "source": [
    "ventas_por_mes = prop_caba_gba.groupby(['year', 'month']).count()['created_on']"
   ]
  },
  {
   "cell_type": "code",
   "execution_count": 144,
   "metadata": {
    "collapsed": false
   },
   "outputs": [
    {
     "data": {
      "image/png": "[encoded data removed]",
      "text/plain": [
       "<matplotlib.figure.Figure at 0x7f74775d1750>"
      ]
     },
     "metadata": {},
     "output_type": "display_data"
    }
   ],
   "source": [
    "%matplotlib inline\n",
    "ventas_por_mes.plot('bar', title = 'Ventas por mes por anio', figsize=(15,10), color = 'grey');"
   ]
  },
  {
   "cell_type": "markdown",
   "metadata": {},
   "source": [
    "### Tipos de propiedad vendidas"
   ]
  },
  {
   "cell_type": "code",
   "execution_count": 145,
   "metadata": {
    "collapsed": true
   },
   "outputs": [],
   "source": [
    "ventas_por_tipo = prop_caba_gba.groupby(['year','property_type']).count()['created_on']"
   ]
  },
  {
   "cell_type": "code",
   "execution_count": 146,
   "metadata": {
    "collapsed": false
   },
   "outputs": [
    {
     "data": {
      "image/png": "[encoded data removed]",
      "text/plain": [
       "<matplotlib.figure.Figure at 0x7f748161ae50>"
      ]
     },
     "metadata": {},
     "output_type": "display_data"
    }
   ],
   "source": [
    "%matplotlib inline\n",
    "ventas_por_tipo.plot('bar', title = 'Ventas por tipo por anio', figsize=(15,10), color= 'coral');"
   ]
  },
  {
   "cell_type": "markdown",
   "metadata": {},
   "source": [
    "Podemos observar que en los ultimos años hubo un crecimiento en la cantidad de apartamentos respecto a las casas, esto podemos atribuirlo a diversos factores como lo son: el aumento de la poblacion, el aumento del precio del m2 que lleva a la gente a comprar viviendas mas pequeñas, la necesidad de la gente de vivir cerca de determinados puntos de la ciudad, el aumento de desarrollos inmobiliarios del tipo torres/edificios, etc."
   ]
  },
  {
   "cell_type": "markdown",
   "metadata": {},
   "source": [
    "### Evolución de ventas de departamentos por año"
   ]
  },
  {
   "cell_type": "code",
   "execution_count": 147,
   "metadata": {
    "collapsed": true
   },
   "outputs": [],
   "source": [
    "ventas_dptos = prop_caba_gba[prop_caba_gba['property_type'] == 'apartment']\n",
    "ventas_dptos = ventas_dptos.groupby(['year', 'month']).count()['created_on']"
   ]
  },
  {
   "cell_type": "code",
   "execution_count": 148,
   "metadata": {
    "collapsed": false
   },
   "outputs": [
    {
     "data": {
      "image/png": "[encoded data removed]",
      "text/plain": [
       "<matplotlib.figure.Figure at 0x7f74795b3250>"
      ]
     },
     "metadata": {},
     "output_type": "display_data"
    }
   ],
   "source": [
    "%matplotlib inline\n",
    "ventas_dptos.plot('bar', title = 'Ventas de departamentos por anio', figsize=(15,10), color = 'powderblue');"
   ]
  },
  {
   "cell_type": "markdown",
   "metadata": {},
   "source": [
    "# ¿Que pasa con Tigre y Zonas Aledañas?\n",
    "En graficos anteriores hemos visto que en la base de datos proporcionada por Properati tenemos una gran cantidad de ventas/publicaciones en el partido de Tigre. Debido a que uno de los integrantes del grupo vive en dicho partido, hemos investigado un poco y descubierto que la zona ha crecido mucho en los ultimos 25 años. Si bien no tenemos datos sobre los ultimos 25 años, con la base de datos propuesta haremos un analisis de la evolucion del precio del m2 en dicha zona intentando de sacar alguna tendencia. Para el analisis nos hemos propuesto comparar la evolucion de 3 zonas de Tigre ( Nordelta, Benavidez, Tigre Centro ) y de San Fernando partido aledaño a Tigre y que tambien ha crecido mucho en los ultimos años como alternativa a Tigre.\n",
    "Elegimos Nordelta ya que su crecimiento ha sido realmente exponencial y creemos que influye en el precio de zonas aledañas como es Tigre y Benavidez\n",
    "Elegimos San Fernando ya que entendemos que en los ultimos años ha sido buscado como alternativa a Tigre para vivir en zona norte a buen precio.\n"
   ]
  },
  {
   "cell_type": "code",
   "execution_count": 149,
   "metadata": {
    "collapsed": false
   },
   "outputs": [
    {
     "data": {
      "text/plain": [
       "Nordelta        3474\n",
       "Tigre           3383\n",
       "Benavidez       1346\n",
       "San Fernando     760\n",
       "Name: place_name, dtype: int64"
      ]
     },
     "execution_count": 149,
     "metadata": {},
     "output_type": "execute_result"
    }
   ],
   "source": [
    "# Nos quedamos con las propiedades de Tigre, San Fernando, Nordelta, Benavidez\n",
    "# Debido a la poca cantidad de registros en 2012 y 2014 los excluiremos del analisis\n",
    "prop_zn = prop_caba_gba[(( prop_caba_gba['place_name'] == 'Nordelta' ) | ( prop_caba_gba['place_name'] == 'Tigre' ) | \\\n",
    "                        ( prop_caba_gba['place_name'] == 'San Fernando' ) | ( prop_caba_gba['place_name'] == 'Benavidez' )) \\\n",
    "                        & ( prop_caba_gba['year'] > 2013 )]\n",
    "\n",
    "# Nos quedamos con las columnas que nos interesan y borramos si tienen datos vacios\n",
    "prop_zn = prop_zn[['place_name', 'price_usd_per_m2', 'year']]\n",
    "prop_zn.dropna(inplace=True)\n",
    "\n",
    "prop_zn['place_name'].value_counts()\n"
   ]
  },
  {
   "cell_type": "code",
   "execution_count": 150,
   "metadata": {
    "collapsed": false
   },
   "outputs": [
    {
     "data": {
      "text/plain": [
       "2017    5805\n",
       "2016    2240\n",
       "2015     847\n",
       "2014      71\n",
       "Name: year, dtype: int64"
      ]
     },
     "execution_count": 150,
     "metadata": {},
     "output_type": "execute_result"
    }
   ],
   "source": [
    "# Vemos como se distribuyen los datos respecto a los años\n",
    "prop_zn['year'].value_counts()"
   ]
  },
  {
   "cell_type": "code",
   "execution_count": 151,
   "metadata": {
    "collapsed": false
   },
   "outputs": [
    {
     "name": "stdout",
     "output_type": "stream",
     "text": [
      "       price_usd_per_m2         year\n",
      "count       8963.000000  8963.000000\n",
      "mean        1869.698972  2016.537320\n",
      "std         2108.885774     0.696555\n",
      "min            4.166667  2014.000000\n",
      "25%          989.246380  2016.000000\n",
      "50%         1791.666667  2017.000000\n",
      "75%         2327.272727  2017.000000\n",
      "max        69710.656934  2017.000000\n"
     ]
    }
   ],
   "source": [
    "# Hacemos un describe para ver la distribucion de los datos y si tenemos que filtrar algunos valores grandes o pequeños\n",
    "# para que no introduzcan ruido en nuestro analisis\n",
    "print(prop_zn.describe())"
   ]
  },
  {
   "cell_type": "code",
   "execution_count": 152,
   "metadata": {
    "collapsed": false
   },
   "outputs": [
    {
     "name": "stdout",
     "output_type": "stream",
     "text": [
      "       price_usd_per_m2         year\n",
      "count       8647.000000  8647.000000\n",
      "mean        1806.738795  2016.553949\n",
      "std          969.005663     0.680057\n",
      "min          301.387137  2014.000000\n",
      "25%         1125.000000  2016.000000\n",
      "50%         1820.833333  2017.000000\n",
      "75%         2336.355932  2017.000000\n",
      "max         9900.000000  2017.000000\n"
     ]
    }
   ],
   "source": [
    "# De la ejecucion anterior notamos que tanto el max como el minimo son valores poco probables para \n",
    "# el precio del m2 por lo que filtraremos utilazando como criterio la distribucion de los datos\n",
    "prop_zn = prop_zn[(prop_zn['price_usd_per_m2'] > 300) & ( prop_zn['price_usd_per_m2'] < 10000 )]\n",
    "print(prop_zn.describe())"
   ]
  },
  {
   "cell_type": "markdown",
   "metadata": {},
   "source": [
    "### ¿Cual es la relacion entre precio prom del m2 entre Tigre y Nordelta?"
   ]
  },
  {
   "cell_type": "code",
   "execution_count": 153,
   "metadata": {
    "collapsed": false
   },
   "outputs": [
    {
     "data": {
      "image/png": "[encoded data removed]",
      "text/plain": [
       "<matplotlib.figure.Figure at 0x7f748155b450>"
      ]
     },
     "metadata": {},
     "output_type": "display_data"
    }
   ],
   "source": [
    "# Veamos la comparacion de precio promedio del metro cuadrado de Tigre vs San Fernando\n",
    "%matplotlib inline\n",
    "plt.figure()\n",
    "\n",
    "plt.title('Comparacion Precio Promedio', fontsize=20)\n",
    "plt.ylabel('Precio m2 Promedio', fontsize=10)\n",
    "plt.xlabel('Anio', fontsize=10)\n",
    "plt.grid(True)\n",
    "\n",
    "prop_zn.loc[prop_zn['place_name'] == 'Tigre' , ['place_name' , 'price_usd_per_m2','year'] ]\\\n",
    "             .groupby('year').mean()\\\n",
    "             .loc[:,'price_usd_per_m2']\\\n",
    "             .plot.line(color='red',   rot=90, xticks=range(2014,2017), linewidth=3,figsize=(16,8), alpha=1,label='Tigre');\n",
    "            \n",
    "prop_zn.loc[prop_zn['place_name'] == 'Nordelta' , ['place_name' , 'price_usd_per_m2','year'] ]\\\n",
    "             .groupby('year').mean()\\\n",
    "             .loc[:,'price_usd_per_m2']\\\n",
    "             .plot.line(color='blue',   rot=90, xticks=range(2014,2017), linewidth=3,figsize=(16,8), alpha=1,label='Nordelta');            \n",
    "            \n",
    "plt.legend();  "
   ]
  },
  {
   "cell_type": "markdown",
   "metadata": {},
   "source": [
    "Considerando que en 2014 no teniamos muchos datos y exluyendolo del analisis, podriamos decir que el precio de Nordelta y Tigre a ido creciendo en forma pareja a lo largo de los años. Es entendible debido a que ambas son zonas de auge en cuanto a ventas en zona norte debido a los desarrollos inmobiliarios que se han dado en los ultimos años. Otra de las razonas de la paridad puede deberse a que son zonas linderas y ambas pertenecen al partido de Tigre por lo que tambien puede haber algunas casas que figuren por ejemplo en place_name = Tigre pero pertenecen a Nordelta y Viceversa, por lo que podriamos tener un error en la carga de datos que nos afecta al analisis."
   ]
  },
  {
   "cell_type": "markdown",
   "metadata": {},
   "source": [
    "### Precio Promedio del M2 Tigre vs San Fernando"
   ]
  },
  {
   "cell_type": "code",
   "execution_count": 154,
   "metadata": {
    "collapsed": false
   },
   "outputs": [
    {
     "data": {
      "image/png": "[encoded data removed]",
      "text/plain": [
       "<matplotlib.figure.Figure at 0x7f748187a750>"
      ]
     },
     "metadata": {},
     "output_type": "display_data"
    }
   ],
   "source": [
    "# Veamos la comparacion de precio promedio del metro cuadrado de Tigre vs San Fernando\n",
    "%matplotlib inline\n",
    "plt.figure()\n",
    "\n",
    "plt.title('Comparacion Precio Promedio', fontsize=20)\n",
    "plt.ylabel('Precio m2 Promedio', fontsize=10)\n",
    "plt.xlabel('Anio', fontsize=10)\n",
    "plt.grid(True)\n",
    "\n",
    "prop_zn.loc[prop_zn['place_name'] == 'Tigre' , ['place_name' , 'price_usd_per_m2','year'] ]\\\n",
    "             .groupby('year').mean()\\\n",
    "             .loc[:,'price_usd_per_m2']\\\n",
    "             .plot.line(c='y',   rot=90, xticks=range(2014,2017), linewidth=3,figsize=(16,8), alpha=1,label='Tigre');\n",
    "            \n",
    "prop_zn.loc[prop_zn['place_name'] == 'San Fernando' , ['place_name' , 'price_usd_per_m2','year'] ]\\\n",
    "             .groupby('year').mean()\\\n",
    "             .loc[:,'price_usd_per_m2']\\\n",
    "             .plot.line(c='g',   rot=90, xticks=range(2014,2017), linewidth=3,figsize=(16,8), alpha=1,label='San Fdo.');            \n",
    "            \n",
    "plt.legend();            "
   ]
  },
  {
   "cell_type": "markdown",
   "metadata": {},
   "source": [
    "Teniendo en cuenta que en 2014 teniamos pocos datos para poder sacar un buen promedio del precio del m2 vamos a analizar de 2015 a 2017. En dichos años podemos ver que Tigre tiene un precio por m2 superior a San Fernando dato que consideramos logico de acuerdo a lo que conocemos de Tigre como zona turistica. Podemos apreciar sin embargo que San Fernando a ido creciendo a lo largo de los años en cuanto a su precio promedio del m2 cuadrado al punto tal de achicar la brecha de precio que tenia con Tigre"
   ]
  },
  {
   "cell_type": "markdown",
   "metadata": {},
   "source": [
    "### ¿Influyo el crecimiento del m2 en Nordelta en el precio del m2 en Benavidez?"
   ]
  },
  {
   "cell_type": "code",
   "execution_count": 155,
   "metadata": {
    "collapsed": false
   },
   "outputs": [
    {
     "data": {
      "image/png": "[encoded data removed]",
      "text/plain": [
       "<matplotlib.figure.Figure at 0x7f7481ce7690>"
      ]
     },
     "metadata": {},
     "output_type": "display_data"
    }
   ],
   "source": [
    "# Veamos la comparacion de precio promedio del metro cuadrado de Nordelta vs Benavidez\n",
    "%matplotlib inline\n",
    "plt.figure()\n",
    "\n",
    "\n",
    "plt.title('Comparacion Precio Promedio', fontsize=20)\n",
    "plt.ylabel('Precio m2 Promedio', fontsize=10)\n",
    "plt.xlabel('Anio', fontsize=10)\n",
    "plt.grid(True)\n",
    "\n",
    "prop_zn.loc[prop_zn['place_name'] == 'Nordelta' , ['place_name' , 'price_usd_per_m2','year'] ]\\\n",
    "             .groupby('year').mean()\\\n",
    "             .loc[:,'price_usd_per_m2']\\\n",
    "             .plot.line(color='indigo',rot=90, xticks=range(2014,2017), linewidth=3,figsize=(16,8), alpha=1,label='Nordelta');\n",
    "            \n",
    "prop_zn.loc[prop_zn['place_name'] == 'Benavidez' , ['place_name' , 'price_usd_per_m2','year'] ]\\\n",
    "             .groupby('year').mean()\\\n",
    "             .loc[:,'price_usd_per_m2']\\\n",
    "             .plot.line(color='orange',rot=90, xticks=range(2014,2017), linewidth=3,figsize=(16,8), alpha=1,label='Benavidez');            \n",
    "            \n",
    "plt.legend();    "
   ]
  },
  {
   "cell_type": "markdown",
   "metadata": {},
   "source": [
    "En este grafico podemos ver una gran diferencia en los precios por m2 de ambas zonas. Se nota que Benavidez tuvo un crecimiento en los ultimos años pero no logra achicar la brecha con Nordelta quien crece en manera mucho mayor. Es curioso este grafico ya que si bien Benavidez es un barrio mucho mas humilde que Nordelta, en los ultimos años se han desarrollado una gran cantidad de proyectos inmobiliarios en la zona lo que haria pensar que el precio por m2 deberia ser mucho mayor en promedio."
   ]
  },
  {
   "cell_type": "markdown",
   "metadata": {},
   "source": [
    "## Datos Adicionales para utilizar en los algoritmos"
   ]
  },
  {
   "cell_type": "markdown",
   "metadata": {},
   "source": [
    "Para usar en el futuro con los algoritmos de predicción hicimos una búsqueda de datos adicionales que consideramos que pueden ser de utilidad. Por ejemplo una relación entre estaciones de subte/tren, escuelas, etc y el valor de las propiedades. Esto podría ser aplicado de forma relativamente sencilla con un algortimos de KNN luego de realizar un pre procesamiento de los datos.\n",
    "Los datos fueron obtenidos de la pagina: https://data.buenosaires.gob.ar/"
   ]
  },
  {
   "cell_type": "markdown",
   "metadata": {},
   "source": [
    "## Comunas"
   ]
  },
  {
   "cell_type": "code",
   "execution_count": 156,
   "metadata": {
    "collapsed": false
   },
   "outputs": [
    {
     "name": "stdout",
     "output_type": "stream",
     "text": [
      "<class 'pandas.core.frame.DataFrame'>\n",
      "Int64Index: 15 entries, 0 to 14\n",
      "Data columns (total 5 columns):\n",
      "WKT          15 non-null object\n",
      "BARRIOS      15 non-null object\n",
      "PERIMETRO    15 non-null float64\n",
      "AREA         15 non-null float64\n",
      "COMUNAS      15 non-null int64\n",
      "dtypes: float64(2), int64(1), object(2)\n",
      "memory usage: 720.0+ bytes\n"
     ]
    }
   ],
   "source": [
    "# Dataset con las comunas que pertencen a CABA\n",
    "comunas = pd.read_csv('datasets/comunas.csv', sep=',', error_bad_lines=False, low_memory=False)\n",
    "comunas.info()"
   ]
  },
  {
   "cell_type": "code",
   "execution_count": 157,
   "metadata": {
    "collapsed": false
   },
   "outputs": [
    {
     "data": {
      "text/html": [
       "<div>\n",
       "<table border=\"1\" class=\"dataframe\">\n",
       "  <thead>\n",
       "    <tr style=\"text-align: right;\">\n",
       "      <th></th>\n",
       "      <th>WKT</th>\n",
       "      <th>BARRIOS</th>\n",
       "      <th>PERIMETRO</th>\n",
       "      <th>AREA</th>\n",
       "      <th>COMUNAS</th>\n",
       "    </tr>\n",
       "  </thead>\n",
       "  <tbody>\n",
       "    <tr>\n",
       "      <th>0</th>\n",
       "      <td>MULTIPOLYGON (((-58.395205797051254 -34.572190...</td>\n",
       "      <td>RECOLETA</td>\n",
       "      <td>21246.611702</td>\n",
       "      <td>6140873.291133</td>\n",
       "      <td>2</td>\n",
       "    </tr>\n",
       "    <tr>\n",
       "      <th>1</th>\n",
       "      <td>MULTIPOLYGON (((-58.412870031308849 -34.614116...</td>\n",
       "      <td>ALMAGRO - BOEDO</td>\n",
       "      <td>12323.465538</td>\n",
       "      <td>6660526.190919</td>\n",
       "      <td>5</td>\n",
       "    </tr>\n",
       "    <tr>\n",
       "      <th>2</th>\n",
       "      <td>MULTIPOLYGON (((-58.430605828330876 -34.607047...</td>\n",
       "      <td>CABALLITO</td>\n",
       "      <td>10990.964471</td>\n",
       "      <td>6851028.913570</td>\n",
       "      <td>6</td>\n",
       "    </tr>\n",
       "    <tr>\n",
       "      <th>3</th>\n",
       "      <td>MULTIPOLYGON (((-58.451995245456509 -34.629745...</td>\n",
       "      <td>FLORES - PARQUE CHACABUCO</td>\n",
       "      <td>17972.257870</td>\n",
       "      <td>12422900.830800</td>\n",
       "      <td>7</td>\n",
       "    </tr>\n",
       "    <tr>\n",
       "      <th>4</th>\n",
       "      <td>MULTIPOLYGON (((-58.519254053232501 -34.633010...</td>\n",
       "      <td>LINIERS - MATADEROS - PARQUE AVELLANEDA</td>\n",
       "      <td>21411.738344</td>\n",
       "      <td>16505305.786100</td>\n",
       "      <td>9</td>\n",
       "    </tr>\n",
       "    <tr>\n",
       "      <th>5</th>\n",
       "      <td>MULTIPOLYGON (((-58.488337367324576 -34.620160...</td>\n",
       "      <td>FLORESTA - MONTE CASTRO - VELEZ SARSFIELD - VE...</td>\n",
       "      <td>18332.037457</td>\n",
       "      <td>12656556.937800</td>\n",
       "      <td>10</td>\n",
       "    </tr>\n",
       "    <tr>\n",
       "      <th>6</th>\n",
       "      <td>MULTIPOLYGON (((-58.498384839883038 -34.596367...</td>\n",
       "      <td>VILLA DEL PARQUE - VILLA  DEVOTO - VILLA GRAL....</td>\n",
       "      <td>19987.696155</td>\n",
       "      <td>14120042.423800</td>\n",
       "      <td>11</td>\n",
       "    </tr>\n",
       "    <tr>\n",
       "      <th>7</th>\n",
       "      <td>MULTIPOLYGON (((-58.503311325084404 -34.593856...</td>\n",
       "      <td>COGHLAN - SAAVEDRA - VILLA PUEYRREDON - VILLA ...</td>\n",
       "      <td>17232.189372</td>\n",
       "      <td>15570926.637600</td>\n",
       "      <td>12</td>\n",
       "    </tr>\n",
       "    <tr>\n",
       "      <th>8</th>\n",
       "      <td>MULTIPOLYGON (((-58.426759317276407 -34.552023...</td>\n",
       "      <td>PALERMO</td>\n",
       "      <td>21768.074886</td>\n",
       "      <td>15772496.331500</td>\n",
       "      <td>14</td>\n",
       "    </tr>\n",
       "    <tr>\n",
       "      <th>9</th>\n",
       "      <td>MULTIPOLYGON (((-58.41191880980378 -34.5980030...</td>\n",
       "      <td>BALVANERA - SAN CRISTOBAL</td>\n",
       "      <td>10486.260809</td>\n",
       "      <td>6385991.391502</td>\n",
       "      <td>3</td>\n",
       "    </tr>\n",
       "    <tr>\n",
       "      <th>10</th>\n",
       "      <td>MULTIPOLYGON (((-58.426024056407591 -34.596614...</td>\n",
       "      <td>AGRONOMIA - CHACARITA -  PARQUE CHAS -  PATERN...</td>\n",
       "      <td>17832.585580</td>\n",
       "      <td>14322896.604100</td>\n",
       "      <td>15</td>\n",
       "    </tr>\n",
       "    <tr>\n",
       "      <th>11</th>\n",
       "      <td>MULTIPOLYGON (((-58.449132083184651 -34.651165...</td>\n",
       "      <td>VILLA LUGANO - VILLA RIACHUELO - VILLA SOLDATI</td>\n",
       "      <td>21028.314565</td>\n",
       "      <td>22192610.609900</td>\n",
       "      <td>8</td>\n",
       "    </tr>\n",
       "    <tr>\n",
       "      <th>12</th>\n",
       "      <td>MULTIPOLYGON (((-58.355200457653446 -34.619430...</td>\n",
       "      <td>BARRACAS - BOCA - NUEVA POMPEYA - PARQUE PATRI...</td>\n",
       "      <td>36277.444201</td>\n",
       "      <td>21701235.964700</td>\n",
       "      <td>4</td>\n",
       "    </tr>\n",
       "    <tr>\n",
       "      <th>13</th>\n",
       "      <td>MULTIPOLYGON (((-58.368540556882486 -34.573650...</td>\n",
       "      <td>CONSTITUCION - MONSERRAT - PUERTO MADERO -  RE...</td>\n",
       "      <td>35572.653074</td>\n",
       "      <td>17802806.639300</td>\n",
       "      <td>1</td>\n",
       "    </tr>\n",
       "    <tr>\n",
       "      <th>14</th>\n",
       "      <td>MULTIPOLYGON (((-58.456633201712684 -34.527558...</td>\n",
       "      <td>BELGRANO - COLEGIALES - NUÑEZ</td>\n",
       "      <td>26967.426465</td>\n",
       "      <td>14571813.149100</td>\n",
       "      <td>13</td>\n",
       "    </tr>\n",
       "  </tbody>\n",
       "</table>\n",
       "</div>"
      ],
      "text/plain": [
       "                                                  WKT  \\\n",
       "0   MULTIPOLYGON (((-58.395205797051254 -34.572190...   \n",
       "1   MULTIPOLYGON (((-58.412870031308849 -34.614116...   \n",
       "2   MULTIPOLYGON (((-58.430605828330876 -34.607047...   \n",
       "3   MULTIPOLYGON (((-58.451995245456509 -34.629745...   \n",
       "4   MULTIPOLYGON (((-58.519254053232501 -34.633010...   \n",
       "5   MULTIPOLYGON (((-58.488337367324576 -34.620160...   \n",
       "6   MULTIPOLYGON (((-58.498384839883038 -34.596367...   \n",
       "7   MULTIPOLYGON (((-58.503311325084404 -34.593856...   \n",
       "8   MULTIPOLYGON (((-58.426759317276407 -34.552023...   \n",
       "9   MULTIPOLYGON (((-58.41191880980378 -34.5980030...   \n",
       "10  MULTIPOLYGON (((-58.426024056407591 -34.596614...   \n",
       "11  MULTIPOLYGON (((-58.449132083184651 -34.651165...   \n",
       "12  MULTIPOLYGON (((-58.355200457653446 -34.619430...   \n",
       "13  MULTIPOLYGON (((-58.368540556882486 -34.573650...   \n",
       "14  MULTIPOLYGON (((-58.456633201712684 -34.527558...   \n",
       "\n",
       "                                              BARRIOS     PERIMETRO  \\\n",
       "0                                            RECOLETA  21246.611702   \n",
       "1                                     ALMAGRO - BOEDO  12323.465538   \n",
       "2                                           CABALLITO  10990.964471   \n",
       "3                           FLORES - PARQUE CHACABUCO  17972.257870   \n",
       "4             LINIERS - MATADEROS - PARQUE AVELLANEDA  21411.738344   \n",
       "5   FLORESTA - MONTE CASTRO - VELEZ SARSFIELD - VE...  18332.037457   \n",
       "6   VILLA DEL PARQUE - VILLA  DEVOTO - VILLA GRAL....  19987.696155   \n",
       "7   COGHLAN - SAAVEDRA - VILLA PUEYRREDON - VILLA ...  17232.189372   \n",
       "8                                             PALERMO  21768.074886   \n",
       "9                           BALVANERA - SAN CRISTOBAL  10486.260809   \n",
       "10  AGRONOMIA - CHACARITA -  PARQUE CHAS -  PATERN...  17832.585580   \n",
       "11     VILLA LUGANO - VILLA RIACHUELO - VILLA SOLDATI  21028.314565   \n",
       "12  BARRACAS - BOCA - NUEVA POMPEYA - PARQUE PATRI...  36277.444201   \n",
       "13  CONSTITUCION - MONSERRAT - PUERTO MADERO -  RE...  35572.653074   \n",
       "14                      BELGRANO - COLEGIALES - NUÑEZ  26967.426465   \n",
       "\n",
       "               AREA  COMUNAS  \n",
       "0    6140873.291133        2  \n",
       "1    6660526.190919        5  \n",
       "2    6851028.913570        6  \n",
       "3   12422900.830800        7  \n",
       "4   16505305.786100        9  \n",
       "5   12656556.937800       10  \n",
       "6   14120042.423800       11  \n",
       "7   15570926.637600       12  \n",
       "8   15772496.331500       14  \n",
       "9    6385991.391502        3  \n",
       "10  14322896.604100       15  \n",
       "11  22192610.609900        8  \n",
       "12  21701235.964700        4  \n",
       "13  17802806.639300        1  \n",
       "14  14571813.149100       13  "
      ]
     },
     "execution_count": 157,
     "metadata": {},
     "output_type": "execute_result"
    }
   ],
   "source": [
    "comunas"
   ]
  },
  {
   "cell_type": "markdown",
   "metadata": {},
   "source": [
    "## Subtes"
   ]
  },
  {
   "cell_type": "code",
   "execution_count": 158,
   "metadata": {
    "collapsed": false
   },
   "outputs": [
    {
     "name": "stdout",
     "output_type": "stream",
     "text": [
      "<class 'pandas.core.frame.DataFrame'>\n",
      "Int64Index: 86 entries, 0 to 85\n",
      "Data columns (total 5 columns):\n",
      "X           86 non-null float64\n",
      "Y           86 non-null float64\n",
      "ID          86 non-null float64\n",
      "ESTACION    86 non-null object\n",
      "LINEA       86 non-null object\n",
      "dtypes: float64(3), object(2)\n",
      "memory usage: 4.0+ KB\n"
     ]
    }
   ],
   "source": [
    "# Dataset que nos proporciona informacion de todas las estaciones de subte\n",
    "subtes = pd.read_csv('datasets/estaciones-de-subte.csv', sep=',', error_bad_lines=False, low_memory=False, encoding='latin1')\n",
    "subtes.info()"
   ]
  },
  {
   "cell_type": "code",
   "execution_count": 159,
   "metadata": {
    "collapsed": false
   },
   "outputs": [
    {
     "data": {
      "text/html": [
       "<div>\n",
       "<table border=\"1\" class=\"dataframe\">\n",
       "  <thead>\n",
       "    <tr style=\"text-align: right;\">\n",
       "      <th></th>\n",
       "      <th>X</th>\n",
       "      <th>Y</th>\n",
       "      <th>ID</th>\n",
       "      <th>ESTACION</th>\n",
       "      <th>LINEA</th>\n",
       "    </tr>\n",
       "  </thead>\n",
       "  <tbody>\n",
       "    <tr>\n",
       "      <th>0</th>\n",
       "      <td>-58.398928</td>\n",
       "      <td>-34.635750</td>\n",
       "      <td>1</td>\n",
       "      <td>CASEROS</td>\n",
       "      <td>H</td>\n",
       "    </tr>\n",
       "    <tr>\n",
       "      <th>1</th>\n",
       "      <td>-58.400970</td>\n",
       "      <td>-34.629376</td>\n",
       "      <td>2</td>\n",
       "      <td>INCLAN</td>\n",
       "      <td>H</td>\n",
       "    </tr>\n",
       "    <tr>\n",
       "      <th>2</th>\n",
       "      <td>-58.402323</td>\n",
       "      <td>-34.623092</td>\n",
       "      <td>3</td>\n",
       "      <td>HUMBERTO 1°</td>\n",
       "      <td>H</td>\n",
       "    </tr>\n",
       "    <tr>\n",
       "      <th>3</th>\n",
       "      <td>-58.404732</td>\n",
       "      <td>-34.615242</td>\n",
       "      <td>4</td>\n",
       "      <td>VENEZUELA</td>\n",
       "      <td>H</td>\n",
       "    </tr>\n",
       "    <tr>\n",
       "      <th>4</th>\n",
       "      <td>-58.406036</td>\n",
       "      <td>-34.608935</td>\n",
       "      <td>5</td>\n",
       "      <td>ONCE - 30 DE DICIEMBRE</td>\n",
       "      <td>H</td>\n",
       "    </tr>\n",
       "    <tr>\n",
       "      <th>5</th>\n",
       "      <td>-58.380574</td>\n",
       "      <td>-34.604245</td>\n",
       "      <td>6</td>\n",
       "      <td>9 DE JULIO</td>\n",
       "      <td>D</td>\n",
       "    </tr>\n",
       "    <tr>\n",
       "      <th>6</th>\n",
       "      <td>-58.397924</td>\n",
       "      <td>-34.599757</td>\n",
       "      <td>7</td>\n",
       "      <td>FACULTAD DE MEDICINA</td>\n",
       "      <td>D</td>\n",
       "    </tr>\n",
       "    <tr>\n",
       "      <th>7</th>\n",
       "      <td>-58.385142</td>\n",
       "      <td>-34.601587</td>\n",
       "      <td>8</td>\n",
       "      <td>TRIBUNALES - TEATRO COLÓN</td>\n",
       "      <td>D</td>\n",
       "    </tr>\n",
       "    <tr>\n",
       "      <th>8</th>\n",
       "      <td>-58.407161</td>\n",
       "      <td>-34.591628</td>\n",
       "      <td>9</td>\n",
       "      <td>AGÜERO</td>\n",
       "      <td>D</td>\n",
       "    </tr>\n",
       "    <tr>\n",
       "      <th>9</th>\n",
       "      <td>-58.415955</td>\n",
       "      <td>-34.585156</td>\n",
       "      <td>10</td>\n",
       "      <td>R.SCALABRINI ORTIZ</td>\n",
       "      <td>D</td>\n",
       "    </tr>\n",
       "  </tbody>\n",
       "</table>\n",
       "</div>"
      ],
      "text/plain": [
       "           X          Y  ID                   ESTACION LINEA\n",
       "0 -58.398928 -34.635750   1                    CASEROS     H\n",
       "1 -58.400970 -34.629376   2                     INCLAN     H\n",
       "2 -58.402323 -34.623092   3                HUMBERTO 1°     H\n",
       "3 -58.404732 -34.615242   4                  VENEZUELA     H\n",
       "4 -58.406036 -34.608935   5     ONCE - 30 DE DICIEMBRE     H\n",
       "5 -58.380574 -34.604245   6                 9 DE JULIO     D\n",
       "6 -58.397924 -34.599757   7       FACULTAD DE MEDICINA     D\n",
       "7 -58.385142 -34.601587   8  TRIBUNALES - TEATRO COLÓN     D\n",
       "8 -58.407161 -34.591628   9                     AGÜERO     D\n",
       "9 -58.415955 -34.585156  10         R.SCALABRINI ORTIZ     D"
      ]
     },
     "execution_count": 159,
     "metadata": {},
     "output_type": "execute_result"
    }
   ],
   "source": [
    "subtes.head(10)"
   ]
  },
  {
   "cell_type": "markdown",
   "metadata": {},
   "source": [
    "## Ferrocarriles"
   ]
  },
  {
   "cell_type": "code",
   "execution_count": 160,
   "metadata": {
    "collapsed": false
   },
   "outputs": [
    {
     "name": "stdout",
     "output_type": "stream",
     "text": [
      "<class 'pandas.core.frame.DataFrame'>\n",
      "Int64Index: 47 entries, 0 to 46\n",
      "Data columns (total 9 columns):\n",
      "LAT        47 non-null float64\n",
      "LNG        47 non-null float64\n",
      "ID         47 non-null int64\n",
      "NOMBRE     47 non-null object\n",
      "EMPRESA    43 non-null object\n",
      "LINEA      47 non-null object\n",
      "LINEA_2    47 non-null object\n",
      "BARRIO     47 non-null object\n",
      "COMUNA     47 non-null object\n",
      "dtypes: float64(2), int64(1), object(6)\n",
      "memory usage: 3.7+ KB\n"
     ]
    }
   ],
   "source": [
    "# Dataset que nos proporciona informacion de las estaciones de Tren\n",
    "ferrocarriles_caba = pd.read_csv('datasets/estaciones-de-ferrocarril.csv', sep=';', error_bad_lines=False, low_memory=False)\n",
    "ferrocarriles_caba.info()"
   ]
  },
  {
   "cell_type": "code",
   "execution_count": 161,
   "metadata": {
    "collapsed": false
   },
   "outputs": [
    {
     "data": {
      "text/html": [
       "<div>\n",
       "<table border=\"1\" class=\"dataframe\">\n",
       "  <thead>\n",
       "    <tr style=\"text-align: right;\">\n",
       "      <th></th>\n",
       "      <th>LAT</th>\n",
       "      <th>LNG</th>\n",
       "      <th>ID</th>\n",
       "      <th>NOMBRE</th>\n",
       "      <th>EMPRESA</th>\n",
       "      <th>LINEA</th>\n",
       "      <th>LINEA_2</th>\n",
       "      <th>BARRIO</th>\n",
       "      <th>COMUNA</th>\n",
       "    </tr>\n",
       "  </thead>\n",
       "  <tbody>\n",
       "    <tr>\n",
       "      <th>0</th>\n",
       "      <td>-34.571334</td>\n",
       "      <td>-58.424295</td>\n",
       "      <td>2</td>\n",
       "      <td>3 DE FEBRERO</td>\n",
       "      <td>TBA - TRENES DE BS AS S.A.</td>\n",
       "      <td>MITRE</td>\n",
       "      <td>F.C.G.B.M.</td>\n",
       "      <td>PALERMO</td>\n",
       "      <td>COMUNA 14</td>\n",
       "    </tr>\n",
       "    <tr>\n",
       "      <th>1</th>\n",
       "      <td>-34.567571</td>\n",
       "      <td>-58.463056</td>\n",
       "      <td>4</td>\n",
       "      <td>BELGRANO R</td>\n",
       "      <td>TBA - TRENES DE BS AS S.A.</td>\n",
       "      <td>MITRE</td>\n",
       "      <td>F.C.G.B.M.</td>\n",
       "      <td>BELGRANO</td>\n",
       "      <td>COMUNA 13</td>\n",
       "    </tr>\n",
       "    <tr>\n",
       "      <th>2</th>\n",
       "      <td>-34.562549</td>\n",
       "      <td>-58.435864</td>\n",
       "      <td>6</td>\n",
       "      <td>LISANDRO DE LA TORRE</td>\n",
       "      <td>TBA - TRENES DE BS AS S.A.</td>\n",
       "      <td>MITRE</td>\n",
       "      <td>F.C.G.B.M.</td>\n",
       "      <td>PALERMO</td>\n",
       "      <td>COMUNA 14</td>\n",
       "    </tr>\n",
       "    <tr>\n",
       "      <th>3</th>\n",
       "      <td>-34.558443</td>\n",
       "      <td>-58.449498</td>\n",
       "      <td>7</td>\n",
       "      <td>BELGRANO C</td>\n",
       "      <td>TBA - TRENES DE BS AS S.A.</td>\n",
       "      <td>MITRE</td>\n",
       "      <td>F.C.G.B.M.</td>\n",
       "      <td>BELGRANO</td>\n",
       "      <td>COMUNA 13</td>\n",
       "    </tr>\n",
       "    <tr>\n",
       "      <th>4</th>\n",
       "      <td>-34.548895</td>\n",
       "      <td>-58.462400</td>\n",
       "      <td>8</td>\n",
       "      <td>NUÑEZ</td>\n",
       "      <td>TBA - TRENES DE BS AS S.A.</td>\n",
       "      <td>MITRE</td>\n",
       "      <td>F.C.G.B.M.</td>\n",
       "      <td>NUÑEZ</td>\n",
       "      <td>COMUNA 13</td>\n",
       "    </tr>\n",
       "    <tr>\n",
       "      <th>5</th>\n",
       "      <td>-34.537522</td>\n",
       "      <td>-58.467586</td>\n",
       "      <td>9</td>\n",
       "      <td>RIVADAVIA</td>\n",
       "      <td>TBA - TRENES DE BS AS S.A.</td>\n",
       "      <td>MITRE</td>\n",
       "      <td>F.C.G.B.M.</td>\n",
       "      <td>NUÑEZ</td>\n",
       "      <td>COMUNA 13</td>\n",
       "    </tr>\n",
       "    <tr>\n",
       "      <th>6</th>\n",
       "      <td>-34.580456</td>\n",
       "      <td>-58.501732</td>\n",
       "      <td>10</td>\n",
       "      <td>PUEYRREDON</td>\n",
       "      <td>TBA - TRENES DE BS AS S.A.</td>\n",
       "      <td>MITRE</td>\n",
       "      <td>F.C.G.B.M.</td>\n",
       "      <td>VILLA PUEYRREDON</td>\n",
       "      <td>COMUNA 12</td>\n",
       "    </tr>\n",
       "    <tr>\n",
       "      <th>7</th>\n",
       "      <td>-34.574767</td>\n",
       "      <td>-58.487968</td>\n",
       "      <td>11</td>\n",
       "      <td>GRAL. URQUIZA</td>\n",
       "      <td>TBA - TRENES DE BS AS S.A.</td>\n",
       "      <td>MITRE</td>\n",
       "      <td>F.C.G.B.M.</td>\n",
       "      <td>VILLA URQUIZA</td>\n",
       "      <td>COMUNA 12</td>\n",
       "    </tr>\n",
       "    <tr>\n",
       "      <th>8</th>\n",
       "      <td>-34.568421</td>\n",
       "      <td>-58.479083</td>\n",
       "      <td>12</td>\n",
       "      <td>DR. L. M. DRAGO</td>\n",
       "      <td>TBA - TRENES DE BS AS S.A.</td>\n",
       "      <td>MITRE</td>\n",
       "      <td>F.C.G.B.M.</td>\n",
       "      <td>VILLA URQUIZA</td>\n",
       "      <td>COMUNA 12</td>\n",
       "    </tr>\n",
       "    <tr>\n",
       "      <th>9</th>\n",
       "      <td>-34.565240</td>\n",
       "      <td>-58.475348</td>\n",
       "      <td>13</td>\n",
       "      <td>COGHLAN</td>\n",
       "      <td>TBA - TRENES DE BS AS S.A.</td>\n",
       "      <td>MITRE</td>\n",
       "      <td>F.C.G.B.M.</td>\n",
       "      <td>COGHLAN</td>\n",
       "      <td>COMUNA 12</td>\n",
       "    </tr>\n",
       "  </tbody>\n",
       "</table>\n",
       "</div>"
      ],
      "text/plain": [
       "         LAT        LNG  ID                NOMBRE                     EMPRESA  \\\n",
       "0 -34.571334 -58.424295   2          3 DE FEBRERO  TBA - TRENES DE BS AS S.A.   \n",
       "1 -34.567571 -58.463056   4            BELGRANO R  TBA - TRENES DE BS AS S.A.   \n",
       "2 -34.562549 -58.435864   6  LISANDRO DE LA TORRE  TBA - TRENES DE BS AS S.A.   \n",
       "3 -34.558443 -58.449498   7            BELGRANO C  TBA - TRENES DE BS AS S.A.   \n",
       "4 -34.548895 -58.462400   8                 NUÑEZ  TBA - TRENES DE BS AS S.A.   \n",
       "5 -34.537522 -58.467586   9             RIVADAVIA  TBA - TRENES DE BS AS S.A.   \n",
       "6 -34.580456 -58.501732  10            PUEYRREDON  TBA - TRENES DE BS AS S.A.   \n",
       "7 -34.574767 -58.487968  11         GRAL. URQUIZA  TBA - TRENES DE BS AS S.A.   \n",
       "8 -34.568421 -58.479083  12       DR. L. M. DRAGO  TBA - TRENES DE BS AS S.A.   \n",
       "9 -34.565240 -58.475348  13               COGHLAN  TBA - TRENES DE BS AS S.A.   \n",
       "\n",
       "   LINEA     LINEA_2            BARRIO     COMUNA  \n",
       "0  MITRE  F.C.G.B.M.           PALERMO  COMUNA 14  \n",
       "1  MITRE  F.C.G.B.M.          BELGRANO  COMUNA 13  \n",
       "2  MITRE  F.C.G.B.M.           PALERMO  COMUNA 14  \n",
       "3  MITRE  F.C.G.B.M.          BELGRANO  COMUNA 13  \n",
       "4  MITRE  F.C.G.B.M.             NUÑEZ  COMUNA 13  \n",
       "5  MITRE  F.C.G.B.M.             NUÑEZ  COMUNA 13  \n",
       "6  MITRE  F.C.G.B.M.  VILLA PUEYRREDON  COMUNA 12  \n",
       "7  MITRE  F.C.G.B.M.     VILLA URQUIZA  COMUNA 12  \n",
       "8  MITRE  F.C.G.B.M.     VILLA URQUIZA  COMUNA 12  \n",
       "9  MITRE  F.C.G.B.M.           COGHLAN  COMUNA 12  "
      ]
     },
     "execution_count": 161,
     "metadata": {},
     "output_type": "execute_result"
    }
   ],
   "source": [
    "ferrocarriles_caba.head(10)"
   ]
  },
  {
   "cell_type": "markdown",
   "metadata": {},
   "source": [
    "## Espacios verdes públicos"
   ]
  },
  {
   "cell_type": "code",
   "execution_count": 162,
   "metadata": {
    "collapsed": false
   },
   "outputs": [
    {
     "name": "stdout",
     "output_type": "stream",
     "text": [
      "<class 'pandas.core.frame.DataFrame'>\n",
      "Int64Index: 1571 entries, 0 to 1570\n",
      "Data columns (total 32 columns):\n",
      "﻿WKT          1571 non-null object\n",
      "NOMBRE        848 non-null object\n",
      "NOMBRE_EV     1373 non-null object\n",
      "CLASIFICAC    1570 non-null object\n",
      "PATIO_DE_J    1399 non-null object\n",
      "APADRINADA    720 non-null object\n",
      "OBSERVACIO    942 non-null object\n",
      "FUENTE_GEO    1530 non-null object\n",
      "FUENTE_INS    1516 non-null object\n",
      "UBICACION     1481 non-null object\n",
      "DECRETO       449 non-null object\n",
      "FECHA_DECR    487 non-null object\n",
      "ORDENANZA_    657 non-null object\n",
      "FECHA_ORDE    694 non-null object\n",
      "BOLETIN_OF    724 non-null object\n",
      "FECHA_BOLE    724 non-null object\n",
      "BARRIO        1569 non-null object\n",
      "COMUNA        1571 non-null float64\n",
      "FECH_PADRI    71 non-null object\n",
      "VIG_PADRI     70 non-null object\n",
      "ALC_CONVEN    70 non-null object\n",
      "NOM_MAPA      847 non-null object\n",
      "ID_EV_PUB     1571 non-null int64\n",
      "AREA          1571 non-null float64\n",
      "PERIMETER     1571 non-null float64\n",
      "DGEV_PADRI    81 non-null object\n",
      "MANT_2017     83 non-null object\n",
      "TAREAS        83 non-null object\n",
      "ESTADO        83 non-null object\n",
      "SUP_TOTAL     213 non-null float64\n",
      "CANIL         127 non-null object\n",
      "POSTA_AERO    127 non-null object\n",
      "dtypes: float64(4), int64(1), object(27)\n",
      "memory usage: 405.0+ KB\n"
     ]
    }
   ],
   "source": [
    "# Dataset que nos proporciona informacion sobre espacios publicos de la ciudad\n",
    "espacio_verde_caba = pd.read_csv('datasets/espacio-verde-publico.csv', sep=',', error_bad_lines=False, low_memory=False)\n",
    "espacio_verde_caba.info()"
   ]
  },
  {
   "cell_type": "code",
   "execution_count": 163,
   "metadata": {
    "collapsed": false
   },
   "outputs": [
    {
     "data": {
      "text/html": [
       "<div>\n",
       "<table border=\"1\" class=\"dataframe\">\n",
       "  <thead>\n",
       "    <tr style=\"text-align: right;\">\n",
       "      <th></th>\n",
       "      <th>﻿WKT</th>\n",
       "      <th>NOMBRE</th>\n",
       "      <th>NOMBRE_EV</th>\n",
       "      <th>CLASIFICAC</th>\n",
       "      <th>PATIO_DE_J</th>\n",
       "      <th>APADRINADA</th>\n",
       "      <th>OBSERVACIO</th>\n",
       "      <th>FUENTE_GEO</th>\n",
       "      <th>FUENTE_INS</th>\n",
       "      <th>UBICACION</th>\n",
       "      <th>...</th>\n",
       "      <th>ID_EV_PUB</th>\n",
       "      <th>AREA</th>\n",
       "      <th>PERIMETER</th>\n",
       "      <th>DGEV_PADRI</th>\n",
       "      <th>MANT_2017</th>\n",
       "      <th>TAREAS</th>\n",
       "      <th>ESTADO</th>\n",
       "      <th>SUP_TOTAL</th>\n",
       "      <th>CANIL</th>\n",
       "      <th>POSTA_AERO</th>\n",
       "    </tr>\n",
       "  </thead>\n",
       "  <tbody>\n",
       "    <tr>\n",
       "      <th>0</th>\n",
       "      <td>MULTIPOLYGON (((-58.4451555904981 -34.57906477...</td>\n",
       "      <td>NaN</td>\n",
       "      <td>SIN NOMBRE</td>\n",
       "      <td>PLAZOLETA</td>\n",
       "      <td>NO</td>\n",
       "      <td>NaN</td>\n",
       "      <td>ESPACIOS VERDES</td>\n",
       "      <td>USIG</td>\n",
       "      <td>USIG</td>\n",
       "      <td>CONDE - MATIENZO, BENJAMIN, TTE. - FREIRE, RAM...</td>\n",
       "      <td>...</td>\n",
       "      <td>1</td>\n",
       "      <td>295.339</td>\n",
       "      <td>0</td>\n",
       "      <td>NaN</td>\n",
       "      <td>NaN</td>\n",
       "      <td>NaN</td>\n",
       "      <td>NaN</td>\n",
       "      <td>NaN</td>\n",
       "      <td>NaN</td>\n",
       "      <td>NaN</td>\n",
       "    </tr>\n",
       "    <tr>\n",
       "      <th>1</th>\n",
       "      <td>MULTIPOLYGON (((-58.4453556017045 -34.57924873...</td>\n",
       "      <td>NaN</td>\n",
       "      <td>SIN NOMBRE</td>\n",
       "      <td>PLAZOLETA</td>\n",
       "      <td>NO</td>\n",
       "      <td>NaN</td>\n",
       "      <td>ESPACIOS VERDES</td>\n",
       "      <td>USIG</td>\n",
       "      <td>USIG</td>\n",
       "      <td>CONDE - MATIENZO, BENJAMIN, TTE. - FREIRE, RAM...</td>\n",
       "      <td>...</td>\n",
       "      <td>2</td>\n",
       "      <td>774.284</td>\n",
       "      <td>9990</td>\n",
       "      <td>NaN</td>\n",
       "      <td>NaN</td>\n",
       "      <td>NaN</td>\n",
       "      <td>NaN</td>\n",
       "      <td>NaN</td>\n",
       "      <td>NaN</td>\n",
       "      <td>NaN</td>\n",
       "    </tr>\n",
       "    <tr>\n",
       "      <th>2</th>\n",
       "      <td>MULTIPOLYGON (((-58.4448487613474 -34.57975070...</td>\n",
       "      <td>NaN</td>\n",
       "      <td>SIN NOMBRE</td>\n",
       "      <td>PLAZOLETA</td>\n",
       "      <td>NO</td>\n",
       "      <td>NaN</td>\n",
       "      <td>ESPACIOS VERDES</td>\n",
       "      <td>USIG</td>\n",
       "      <td>USIG</td>\n",
       "      <td>CONDE - MATIENZO, BENJAMIN, TTE. - FREIRE, RAM...</td>\n",
       "      <td>...</td>\n",
       "      <td>3</td>\n",
       "      <td>26.081</td>\n",
       "      <td>0</td>\n",
       "      <td>NaN</td>\n",
       "      <td>NaN</td>\n",
       "      <td>NaN</td>\n",
       "      <td>NaN</td>\n",
       "      <td>NaN</td>\n",
       "      <td>NaN</td>\n",
       "      <td>NaN</td>\n",
       "    </tr>\n",
       "    <tr>\n",
       "      <th>3</th>\n",
       "      <td>MULTIPOLYGON (((-58.4452130902327 -34.58012665...</td>\n",
       "      <td>NaN</td>\n",
       "      <td>SIN NOMBRE</td>\n",
       "      <td>PLAZOLETA</td>\n",
       "      <td>NO</td>\n",
       "      <td>NaN</td>\n",
       "      <td>ESPACIOS VERDES</td>\n",
       "      <td>USIG</td>\n",
       "      <td>USIG</td>\n",
       "      <td>CONDE - MATIENZO, BENJAMIN, TTE. - FREIRE, RAM...</td>\n",
       "      <td>...</td>\n",
       "      <td>4</td>\n",
       "      <td>4279.665</td>\n",
       "      <td>0</td>\n",
       "      <td>NaN</td>\n",
       "      <td>NaN</td>\n",
       "      <td>NaN</td>\n",
       "      <td>NaN</td>\n",
       "      <td>NaN</td>\n",
       "      <td>NaN</td>\n",
       "      <td>NaN</td>\n",
       "    </tr>\n",
       "    <tr>\n",
       "      <th>4</th>\n",
       "      <td>MULTIPOLYGON (((-58.4448127670184 -34.57989117...</td>\n",
       "      <td>NaN</td>\n",
       "      <td>SIN NOMBRE</td>\n",
       "      <td>PLAZOLETA</td>\n",
       "      <td>NO</td>\n",
       "      <td>NaN</td>\n",
       "      <td>ESPACIOS VERDES</td>\n",
       "      <td>USIG</td>\n",
       "      <td>USIG</td>\n",
       "      <td>CONDE - MATIENZO, BENJAMIN, TTE. - FREIRE, RAM...</td>\n",
       "      <td>...</td>\n",
       "      <td>5</td>\n",
       "      <td>3.984</td>\n",
       "      <td>0</td>\n",
       "      <td>NaN</td>\n",
       "      <td>NaN</td>\n",
       "      <td>NaN</td>\n",
       "      <td>NaN</td>\n",
       "      <td>NaN</td>\n",
       "      <td>NaN</td>\n",
       "      <td>NaN</td>\n",
       "    </tr>\n",
       "    <tr>\n",
       "      <th>5</th>\n",
       "      <td>MULTIPOLYGON (((-58.4451875792257 -34.58001358...</td>\n",
       "      <td>NaN</td>\n",
       "      <td>SIN NOMBRE</td>\n",
       "      <td>PLAZOLETA</td>\n",
       "      <td>NO</td>\n",
       "      <td>NaN</td>\n",
       "      <td>ESPACIOS VERDES</td>\n",
       "      <td>USIG</td>\n",
       "      <td>USIG</td>\n",
       "      <td>CONDE - MATIENZO, BENJAMIN, TTE. - FREIRE, RAM...</td>\n",
       "      <td>...</td>\n",
       "      <td>6</td>\n",
       "      <td>5194.855</td>\n",
       "      <td>9600</td>\n",
       "      <td>NaN</td>\n",
       "      <td>NaN</td>\n",
       "      <td>NaN</td>\n",
       "      <td>NaN</td>\n",
       "      <td>NaN</td>\n",
       "      <td>NaN</td>\n",
       "      <td>NaN</td>\n",
       "    </tr>\n",
       "    <tr>\n",
       "      <th>6</th>\n",
       "      <td>MULTIPOLYGON (((-58.4452896627963 -34.57898463...</td>\n",
       "      <td>NaN</td>\n",
       "      <td>SIN NOMBRE</td>\n",
       "      <td>PLAZOLETA</td>\n",
       "      <td>NO</td>\n",
       "      <td>NaN</td>\n",
       "      <td>ESPACIOS VERDES</td>\n",
       "      <td>USIG</td>\n",
       "      <td>USIG</td>\n",
       "      <td>CONDE - MATIENZO, BENJAMIN, TTE. - FREIRE, RAM...</td>\n",
       "      <td>...</td>\n",
       "      <td>7</td>\n",
       "      <td>588.643</td>\n",
       "      <td>30</td>\n",
       "      <td>NaN</td>\n",
       "      <td>NaN</td>\n",
       "      <td>NaN</td>\n",
       "      <td>NaN</td>\n",
       "      <td>NaN</td>\n",
       "      <td>NaN</td>\n",
       "      <td>NaN</td>\n",
       "    </tr>\n",
       "    <tr>\n",
       "      <th>7</th>\n",
       "      <td>MULTIPOLYGON (((-58.4382360541145 -34.54616199...</td>\n",
       "      <td>NaN</td>\n",
       "      <td>SIN NOMBRE</td>\n",
       "      <td>PLAZOLETA</td>\n",
       "      <td>NO</td>\n",
       "      <td>NaN</td>\n",
       "      <td>ESPACIOS VERDES</td>\n",
       "      <td>USIG</td>\n",
       "      <td>USIG</td>\n",
       "      <td>GUIRALDES, INTENDENTE - ESTACIONAMIENTO - PARQ...</td>\n",
       "      <td>...</td>\n",
       "      <td>8</td>\n",
       "      <td>3746.965</td>\n",
       "      <td>100</td>\n",
       "      <td>NaN</td>\n",
       "      <td>NaN</td>\n",
       "      <td>NaN</td>\n",
       "      <td>NaN</td>\n",
       "      <td>NaN</td>\n",
       "      <td>NaN</td>\n",
       "      <td>NaN</td>\n",
       "    </tr>\n",
       "    <tr>\n",
       "      <th>8</th>\n",
       "      <td>MULTIPOLYGON (((-58.4552876770316 -34.56223232...</td>\n",
       "      <td>PZA. RAFAEL HERNANDEZ</td>\n",
       "      <td>HERNANDEZ, RAFAEL</td>\n",
       "      <td>PLAZA</td>\n",
       "      <td>SI</td>\n",
       "      <td>NO</td>\n",
       "      <td>NaN</td>\n",
       "      <td>ESPACIOS VERDES</td>\n",
       "      <td>E.V.</td>\n",
       "      <td>ECHEVERRIA - VUELTA DE OBLIGADO - MOM, POLICARPO</td>\n",
       "      <td>...</td>\n",
       "      <td>9</td>\n",
       "      <td>558.986</td>\n",
       "      <td>9990</td>\n",
       "      <td>NaN</td>\n",
       "      <td>NaN</td>\n",
       "      <td>NaN</td>\n",
       "      <td>NaN</td>\n",
       "      <td>NaN</td>\n",
       "      <td>NaN</td>\n",
       "      <td>NaN</td>\n",
       "    </tr>\n",
       "    <tr>\n",
       "      <th>9</th>\n",
       "      <td>MULTIPOLYGON (((-58.4371387094279 -34.55314301...</td>\n",
       "      <td>PZA. PQUES. NACIONALES ARGENTINOS</td>\n",
       "      <td>PARQUES NACIONALES ARGENTINOS</td>\n",
       "      <td>PLAZA</td>\n",
       "      <td>NO</td>\n",
       "      <td>NO</td>\n",
       "      <td>NaN</td>\n",
       "      <td>ESPACIOS VERDES</td>\n",
       "      <td>E.V.</td>\n",
       "      <td>ECHEVERRIA - CASTAÑEDA - SUCRE, ANTONIO J. DE,...</td>\n",
       "      <td>...</td>\n",
       "      <td>10</td>\n",
       "      <td>12169.958</td>\n",
       "      <td>1000</td>\n",
       "      <td>SI</td>\n",
       "      <td>SI</td>\n",
       "      <td>PARQUIZACION - VEREDAS PERIMETRALES</td>\n",
       "      <td>FINALIZADA</td>\n",
       "      <td>10215</td>\n",
       "      <td>NaN</td>\n",
       "      <td>NaN</td>\n",
       "    </tr>\n",
       "  </tbody>\n",
       "</table>\n",
       "<p>10 rows × 32 columns</p>\n",
       "</div>"
      ],
      "text/plain": [
       "                                                ﻿WKT  \\\n",
       "0  MULTIPOLYGON (((-58.4451555904981 -34.57906477...   \n",
       "1  MULTIPOLYGON (((-58.4453556017045 -34.57924873...   \n",
       "2  MULTIPOLYGON (((-58.4448487613474 -34.57975070...   \n",
       "3  MULTIPOLYGON (((-58.4452130902327 -34.58012665...   \n",
       "4  MULTIPOLYGON (((-58.4448127670184 -34.57989117...   \n",
       "5  MULTIPOLYGON (((-58.4451875792257 -34.58001358...   \n",
       "6  MULTIPOLYGON (((-58.4452896627963 -34.57898463...   \n",
       "7  MULTIPOLYGON (((-58.4382360541145 -34.54616199...   \n",
       "8  MULTIPOLYGON (((-58.4552876770316 -34.56223232...   \n",
       "9  MULTIPOLYGON (((-58.4371387094279 -34.55314301...   \n",
       "\n",
       "                              NOMBRE                      NOMBRE_EV  \\\n",
       "0                                NaN                     SIN NOMBRE   \n",
       "1                                NaN                     SIN NOMBRE   \n",
       "2                                NaN                     SIN NOMBRE   \n",
       "3                                NaN                     SIN NOMBRE   \n",
       "4                                NaN                     SIN NOMBRE   \n",
       "5                                NaN                     SIN NOMBRE   \n",
       "6                                NaN                     SIN NOMBRE   \n",
       "7                                NaN                     SIN NOMBRE   \n",
       "8              PZA. RAFAEL HERNANDEZ              HERNANDEZ, RAFAEL   \n",
       "9  PZA. PQUES. NACIONALES ARGENTINOS  PARQUES NACIONALES ARGENTINOS   \n",
       "\n",
       "  CLASIFICAC PATIO_DE_J APADRINADA       OBSERVACIO       FUENTE_GEO  \\\n",
       "0  PLAZOLETA         NO        NaN  ESPACIOS VERDES             USIG   \n",
       "1  PLAZOLETA         NO        NaN  ESPACIOS VERDES             USIG   \n",
       "2  PLAZOLETA         NO        NaN  ESPACIOS VERDES             USIG   \n",
       "3  PLAZOLETA         NO        NaN  ESPACIOS VERDES             USIG   \n",
       "4  PLAZOLETA         NO        NaN  ESPACIOS VERDES             USIG   \n",
       "5  PLAZOLETA         NO        NaN  ESPACIOS VERDES             USIG   \n",
       "6  PLAZOLETA         NO        NaN  ESPACIOS VERDES             USIG   \n",
       "7  PLAZOLETA         NO        NaN  ESPACIOS VERDES             USIG   \n",
       "8      PLAZA         SI         NO              NaN  ESPACIOS VERDES   \n",
       "9      PLAZA         NO         NO              NaN  ESPACIOS VERDES   \n",
       "\n",
       "  FUENTE_INS                                          UBICACION    ...      \\\n",
       "0       USIG  CONDE - MATIENZO, BENJAMIN, TTE. - FREIRE, RAM...    ...       \n",
       "1       USIG  CONDE - MATIENZO, BENJAMIN, TTE. - FREIRE, RAM...    ...       \n",
       "2       USIG  CONDE - MATIENZO, BENJAMIN, TTE. - FREIRE, RAM...    ...       \n",
       "3       USIG  CONDE - MATIENZO, BENJAMIN, TTE. - FREIRE, RAM...    ...       \n",
       "4       USIG  CONDE - MATIENZO, BENJAMIN, TTE. - FREIRE, RAM...    ...       \n",
       "5       USIG  CONDE - MATIENZO, BENJAMIN, TTE. - FREIRE, RAM...    ...       \n",
       "6       USIG  CONDE - MATIENZO, BENJAMIN, TTE. - FREIRE, RAM...    ...       \n",
       "7       USIG  GUIRALDES, INTENDENTE - ESTACIONAMIENTO - PARQ...    ...       \n",
       "8       E.V.   ECHEVERRIA - VUELTA DE OBLIGADO - MOM, POLICARPO    ...       \n",
       "9       E.V.  ECHEVERRIA - CASTAÑEDA - SUCRE, ANTONIO J. DE,...    ...       \n",
       "\n",
       "  ID_EV_PUB       AREA PERIMETER DGEV_PADRI MANT_2017  \\\n",
       "0         1    295.339         0        NaN       NaN   \n",
       "1         2    774.284      9990        NaN       NaN   \n",
       "2         3     26.081         0        NaN       NaN   \n",
       "3         4   4279.665         0        NaN       NaN   \n",
       "4         5      3.984         0        NaN       NaN   \n",
       "5         6   5194.855      9600        NaN       NaN   \n",
       "6         7    588.643        30        NaN       NaN   \n",
       "7         8   3746.965       100        NaN       NaN   \n",
       "8         9    558.986      9990        NaN       NaN   \n",
       "9        10  12169.958      1000         SI        SI   \n",
       "\n",
       "                                TAREAS      ESTADO  SUP_TOTAL CANIL POSTA_AERO  \n",
       "0                                  NaN         NaN        NaN   NaN        NaN  \n",
       "1                                  NaN         NaN        NaN   NaN        NaN  \n",
       "2                                  NaN         NaN        NaN   NaN        NaN  \n",
       "3                                  NaN         NaN        NaN   NaN        NaN  \n",
       "4                                  NaN         NaN        NaN   NaN        NaN  \n",
       "5                                  NaN         NaN        NaN   NaN        NaN  \n",
       "6                                  NaN         NaN        NaN   NaN        NaN  \n",
       "7                                  NaN         NaN        NaN   NaN        NaN  \n",
       "8                                  NaN         NaN        NaN   NaN        NaN  \n",
       "9  PARQUIZACION - VEREDAS PERIMETRALES  FINALIZADA      10215   NaN        NaN  \n",
       "\n",
       "[10 rows x 32 columns]"
      ]
     },
     "execution_count": 163,
     "metadata": {},
     "output_type": "execute_result"
    }
   ],
   "source": [
    "espacio_verde_caba.head(10)"
   ]
  },
  {
   "cell_type": "markdown",
   "metadata": {},
   "source": [
    "## Establecimientos educativos"
   ]
  },
  {
   "cell_type": "code",
   "execution_count": 164,
   "metadata": {
    "collapsed": false
   },
   "outputs": [
    {
     "name": "stdout",
     "output_type": "stream",
     "text": [
      "<class 'pandas.core.frame.DataFrame'>\n",
      "Int64Index: 2857 entries, 0 to 2856\n",
      "Data columns (total 28 columns):\n",
      "LON           2857 non-null float64\n",
      "LAT           2857 non-null float64\n",
      "OBJECTID      2857 non-null int64\n",
      "CUI           2857 non-null int64\n",
      "CUEANEXO      2857 non-null int64\n",
      "CUE           2857 non-null int64\n",
      "ANEXO         2857 non-null float64\n",
      "SECTOR        2857 non-null int64\n",
      "DOM_EDIFIC    2857 non-null object\n",
      "DOM_ESTABL    2857 non-null object\n",
      "NOMB_EST      2857 non-null object\n",
      "NOMB_ABR      2857 non-null object\n",
      "TELEFONO      2854 non-null object\n",
      "EMAIL         2855 non-null object\n",
      "CODPOST       2857 non-null object\n",
      "PAGINAWEB     2857 non-null object\n",
      "NIVMOD        2857 non-null object\n",
      "NIVELMODAL    2857 non-null object\n",
      "DEPFUN        2822 non-null object\n",
      "DE            2857 non-null int64\n",
      "COMUNA        2857 non-null int64\n",
      "BARRIO        2857 non-null object\n",
      "AREAPROGRA    2857 non-null object\n",
      "ESTADO        2857 non-null int64\n",
      "POINT_X       2857 non-null object\n",
      "POINT_Y       2857 non-null object\n",
      "NIVEL         2857 non-null object\n",
      "TIPEST        2857 non-null object\n",
      "dtypes: float64(3), int64(8), object(17)\n",
      "memory usage: 647.3+ KB\n"
     ]
    }
   ],
   "source": [
    "establecimientos_educativos = pd.read_csv('datasets/establecimientos-educativos.csv', sep=';', error_bad_lines=False, low_memory=False)\n",
    "establecimientos_educativos.info()"
   ]
  },
  {
   "cell_type": "code",
   "execution_count": 165,
   "metadata": {
    "collapsed": false
   },
   "outputs": [
    {
     "data": {
      "text/html": [
       "<div>\n",
       "<table border=\"1\" class=\"dataframe\">\n",
       "  <thead>\n",
       "    <tr style=\"text-align: right;\">\n",
       "      <th></th>\n",
       "      <th>LON</th>\n",
       "      <th>LAT</th>\n",
       "      <th>OBJECTID</th>\n",
       "      <th>CUI</th>\n",
       "      <th>CUEANEXO</th>\n",
       "      <th>CUE</th>\n",
       "      <th>ANEXO</th>\n",
       "      <th>SECTOR</th>\n",
       "      <th>DOM_EDIFIC</th>\n",
       "      <th>DOM_ESTABL</th>\n",
       "      <th>...</th>\n",
       "      <th>DEPFUN</th>\n",
       "      <th>DE</th>\n",
       "      <th>COMUNA</th>\n",
       "      <th>BARRIO</th>\n",
       "      <th>AREAPROGRA</th>\n",
       "      <th>ESTADO</th>\n",
       "      <th>POINT_X</th>\n",
       "      <th>POINT_Y</th>\n",
       "      <th>NIVEL</th>\n",
       "      <th>TIPEST</th>\n",
       "    </tr>\n",
       "  </thead>\n",
       "  <tbody>\n",
       "    <tr>\n",
       "      <th>0</th>\n",
       "      <td>-58.512702</td>\n",
       "      <td>-34.600586</td>\n",
       "      <td>1</td>\n",
       "      <td>200794</td>\n",
       "      <td>20046500</td>\n",
       "      <td>200465</td>\n",
       "      <td>0</td>\n",
       "      <td>1</td>\n",
       "      <td>MERCEDES 4002</td>\n",
       "      <td>MERCEDES 4002</td>\n",
       "      <td>...</td>\n",
       "      <td>DIR DE EDUCACION DEL ADULTO Y DEL ADOLESCENTE</td>\n",
       "      <td>17</td>\n",
       "      <td>11</td>\n",
       "      <td>VILLA DEVOTO</td>\n",
       "      <td>12 - HOSP ZUBIZARRETA</td>\n",
       "      <td>1</td>\n",
       "      <td>9.546.838.350.000.000</td>\n",
       "      <td>10.318.093.010.000.000</td>\n",
       "      <td>SECUNDARIO DE JOVENES Y ADULTOS</td>\n",
       "      <td>CENS (CENTRO EDUCATIVO DE NIVEL SECUNDARIO)</td>\n",
       "    </tr>\n",
       "    <tr>\n",
       "      <th>1</th>\n",
       "      <td>-58.409572</td>\n",
       "      <td>-34.627545</td>\n",
       "      <td>2</td>\n",
       "      <td>202368</td>\n",
       "      <td>20146700</td>\n",
       "      <td>201467</td>\n",
       "      <td>0</td>\n",
       "      <td>2</td>\n",
       "      <td>CONSTITUCION 3156</td>\n",
       "      <td>CONSTITUCION 3156</td>\n",
       "      <td>...</td>\n",
       "      <td>DIR GRAL DE EDUCACION DE GESTION PRIVADA</td>\n",
       "      <td>6</td>\n",
       "      <td>3</td>\n",
       "      <td>SAN CRISTOBAL</td>\n",
       "      <td>08 - HOSP RAMOS MEJIA</td>\n",
       "      <td>1</td>\n",
       "      <td>10.492.682.829.999.900</td>\n",
       "      <td>10.019.007.170.000.000</td>\n",
       "      <td>SECUNDARIO COMUN</td>\n",
       "      <td>IEIEO (INSTITUTO EDUCATIVO INCORPORADO A LA EN...</td>\n",
       "    </tr>\n",
       "    <tr>\n",
       "      <th>2</th>\n",
       "      <td>-58.470192</td>\n",
       "      <td>-34.565676</td>\n",
       "      <td>3</td>\n",
       "      <td>202343</td>\n",
       "      <td>20055900</td>\n",
       "      <td>200559</td>\n",
       "      <td>0</td>\n",
       "      <td>1</td>\n",
       "      <td>BLANCO ENCALADA 3479</td>\n",
       "      <td>BLANCO ENCALADA 3471</td>\n",
       "      <td>...</td>\n",
       "      <td>DIR DE EDUCACION INICIAL</td>\n",
       "      <td>10</td>\n",
       "      <td>13</td>\n",
       "      <td>BELGRANO</td>\n",
       "      <td>07 - HOSP PIROVANO</td>\n",
       "      <td>1</td>\n",
       "      <td>9.936.747.400.000.000</td>\n",
       "      <td>10.705.470.920.000.000</td>\n",
       "      <td>INICIAL COMUN</td>\n",
       "      <td>EI (ESCUELA INFANTIL)</td>\n",
       "    </tr>\n",
       "    <tr>\n",
       "      <th>3</th>\n",
       "      <td>-58.400357</td>\n",
       "      <td>-34.584847</td>\n",
       "      <td>4</td>\n",
       "      <td>200063</td>\n",
       "      <td>20290700</td>\n",
       "      <td>202907</td>\n",
       "      <td>0</td>\n",
       "      <td>1</td>\n",
       "      <td>AVDA. GRAL. LAS HERAS 2670</td>\n",
       "      <td>AVDA. GRAL. LAS HERAS 2670</td>\n",
       "      <td>...</td>\n",
       "      <td>DIR DE EDUCACION INICIAL</td>\n",
       "      <td>1</td>\n",
       "      <td>2</td>\n",
       "      <td>RECOLETA</td>\n",
       "      <td>04 - HOSP FERNANDEZ</td>\n",
       "      <td>1</td>\n",
       "      <td>10.577.479.859.999.900</td>\n",
       "      <td>10.492.624.360.000.000</td>\n",
       "      <td>INICIAL COMUN</td>\n",
       "      <td>EI (ESCUELA INFANTIL)</td>\n",
       "    </tr>\n",
       "    <tr>\n",
       "      <th>4</th>\n",
       "      <td>-58.426547</td>\n",
       "      <td>-34.603379</td>\n",
       "      <td>5</td>\n",
       "      <td>200084</td>\n",
       "      <td>20147803</td>\n",
       "      <td>201478</td>\n",
       "      <td>3</td>\n",
       "      <td>1</td>\n",
       "      <td>OBRERO ROBERTO NUÑEZ 4355</td>\n",
       "      <td>OBRERO ROBERTO NUÑEZ 4355</td>\n",
       "      <td>...</td>\n",
       "      <td>DIR DE EDUCACION INICIAL</td>\n",
       "      <td>2</td>\n",
       "      <td>5</td>\n",
       "      <td>ALMAGRO</td>\n",
       "      <td>03 - HOSP DURAND</td>\n",
       "      <td>1</td>\n",
       "      <td>10.337.119.110.000.000</td>\n",
       "      <td>10.287.160.520.000.000</td>\n",
       "      <td>INICIAL COMUN</td>\n",
       "      <td>JIN (JARDIN DE INFANTES NUCLEADO)</td>\n",
       "    </tr>\n",
       "  </tbody>\n",
       "</table>\n",
       "<p>5 rows × 28 columns</p>\n",
       "</div>"
      ],
      "text/plain": [
       "         LON        LAT  OBJECTID     CUI  CUEANEXO     CUE  ANEXO  SECTOR  \\\n",
       "0 -58.512702 -34.600586         1  200794  20046500  200465      0       1   \n",
       "1 -58.409572 -34.627545         2  202368  20146700  201467      0       2   \n",
       "2 -58.470192 -34.565676         3  202343  20055900  200559      0       1   \n",
       "3 -58.400357 -34.584847         4  200063  20290700  202907      0       1   \n",
       "4 -58.426547 -34.603379         5  200084  20147803  201478      3       1   \n",
       "\n",
       "                   DOM_EDIFIC                  DOM_ESTABL  \\\n",
       "0               MERCEDES 4002               MERCEDES 4002   \n",
       "1           CONSTITUCION 3156           CONSTITUCION 3156   \n",
       "2        BLANCO ENCALADA 3479        BLANCO ENCALADA 3471   \n",
       "3  AVDA. GRAL. LAS HERAS 2670  AVDA. GRAL. LAS HERAS 2670   \n",
       "4   OBRERO ROBERTO NUÑEZ 4355   OBRERO ROBERTO NUÑEZ 4355   \n",
       "\n",
       "                         ...                          \\\n",
       "0                        ...                           \n",
       "1                        ...                           \n",
       "2                        ...                           \n",
       "3                        ...                           \n",
       "4                        ...                           \n",
       "\n",
       "                                          DEPFUN  DE COMUNA         BARRIO  \\\n",
       "0  DIR DE EDUCACION DEL ADULTO Y DEL ADOLESCENTE  17     11   VILLA DEVOTO   \n",
       "1       DIR GRAL DE EDUCACION DE GESTION PRIVADA   6      3  SAN CRISTOBAL   \n",
       "2                       DIR DE EDUCACION INICIAL  10     13       BELGRANO   \n",
       "3                       DIR DE EDUCACION INICIAL   1      2       RECOLETA   \n",
       "4                       DIR DE EDUCACION INICIAL   2      5        ALMAGRO   \n",
       "\n",
       "              AREAPROGRA ESTADO                 POINT_X  \\\n",
       "0  12 - HOSP ZUBIZARRETA      1   9.546.838.350.000.000   \n",
       "1  08 - HOSP RAMOS MEJIA      1  10.492.682.829.999.900   \n",
       "2     07 - HOSP PIROVANO      1   9.936.747.400.000.000   \n",
       "3    04 - HOSP FERNANDEZ      1  10.577.479.859.999.900   \n",
       "4       03 - HOSP DURAND      1  10.337.119.110.000.000   \n",
       "\n",
       "                  POINT_Y                            NIVEL  \\\n",
       "0  10.318.093.010.000.000  SECUNDARIO DE JOVENES Y ADULTOS   \n",
       "1  10.019.007.170.000.000                 SECUNDARIO COMUN   \n",
       "2  10.705.470.920.000.000                    INICIAL COMUN   \n",
       "3  10.492.624.360.000.000                    INICIAL COMUN   \n",
       "4  10.287.160.520.000.000                    INICIAL COMUN   \n",
       "\n",
       "                                              TIPEST  \n",
       "0        CENS (CENTRO EDUCATIVO DE NIVEL SECUNDARIO)  \n",
       "1  IEIEO (INSTITUTO EDUCATIVO INCORPORADO A LA EN...  \n",
       "2                              EI (ESCUELA INFANTIL)  \n",
       "3                              EI (ESCUELA INFANTIL)  \n",
       "4                  JIN (JARDIN DE INFANTES NUCLEADO)  \n",
       "\n",
       "[5 rows x 28 columns]"
      ]
     },
     "execution_count": 165,
     "metadata": {},
     "output_type": "execute_result"
    }
   ],
   "source": [
    "establecimientos_educativos.head(5)"
   ]
  },
  {
   "cell_type": "markdown",
   "metadata": {},
   "source": [
    "## Evolución del dolar"
   ]
  },
  {
   "cell_type": "code",
   "execution_count": 166,
   "metadata": {
    "collapsed": false
   },
   "outputs": [
    {
     "name": "stdout",
     "output_type": "stream",
     "text": [
      "<class 'pandas.core.frame.DataFrame'>\n",
      "Int64Index: 2456 entries, 0 to 2455\n",
      "Data columns (total 4 columns):\n",
      "Fecha               2456 non-null object\n",
      "Tipo de dólar       2456 non-null object\n",
      "Precio de venta     2456 non-null float64\n",
      "Precio de compra    1421 non-null float64\n",
      "dtypes: float64(2), object(2)\n",
      "memory usage: 95.9+ KB\n"
     ]
    }
   ],
   "source": [
    "# Dataset que nos proporciona la evolucion del dolar en los ultimos años, servira para hacer analisis respecto a la \n",
    "# inflacion del pais y poder convertir precios de pesos a dolares\n",
    "evol_dolar = pd.read_csv('datasets/evol_dolar.csv', sep=',', error_bad_lines=False, low_memory=False)\n",
    "evol_dolar.info()"
   ]
  },
  {
   "cell_type": "code",
   "execution_count": 167,
   "metadata": {
    "collapsed": true
   },
   "outputs": [],
   "source": [
    "# data_fecha = evol_dolar.set_index('Fecha')\n",
    "fecha_1 = dt.datetime(2013, 1, 1).strftime(\"%d/%m/%y\")\n",
    "evol_dolar = evol_dolar[evol_dolar['Fecha'] > fecha_1]\n",
    "evol_dolar[\"Fecha\"]=pd.to_datetime(evol_dolar[\"Fecha\"])\n",
    "evol_dolar = evol_dolar[evol_dolar['Fecha'] > '2013/01/01']"
   ]
  },
  {
   "cell_type": "code",
   "execution_count": 168,
   "metadata": {
    "collapsed": false
   },
   "outputs": [
    {
     "data": {
      "text/html": [
       "<div>\n",
       "<table border=\"1\" class=\"dataframe\">\n",
       "  <thead>\n",
       "    <tr style=\"text-align: right;\">\n",
       "      <th></th>\n",
       "      <th>Fecha</th>\n",
       "      <th>Tipo de dólar</th>\n",
       "      <th>Precio de venta</th>\n",
       "      <th>Precio de compra</th>\n",
       "    </tr>\n",
       "  </thead>\n",
       "  <tbody>\n",
       "    <tr>\n",
       "      <th>971</th>\n",
       "      <td>2013-02-01</td>\n",
       "      <td>Informal</td>\n",
       "      <td>6.91</td>\n",
       "      <td>NaN</td>\n",
       "    </tr>\n",
       "    <tr>\n",
       "      <th>973</th>\n",
       "      <td>2013-03-01</td>\n",
       "      <td>Informal</td>\n",
       "      <td>7.07</td>\n",
       "      <td>NaN</td>\n",
       "    </tr>\n",
       "    <tr>\n",
       "      <th>974</th>\n",
       "      <td>2013-04-01</td>\n",
       "      <td>Informal</td>\n",
       "      <td>7.07</td>\n",
       "      <td>NaN</td>\n",
       "    </tr>\n",
       "    <tr>\n",
       "      <th>976</th>\n",
       "      <td>2013-07-01</td>\n",
       "      <td>Informal</td>\n",
       "      <td>7.04</td>\n",
       "      <td>NaN</td>\n",
       "    </tr>\n",
       "    <tr>\n",
       "      <th>979</th>\n",
       "      <td>2013-08-01</td>\n",
       "      <td>Informal</td>\n",
       "      <td>7.05</td>\n",
       "      <td>NaN</td>\n",
       "    </tr>\n",
       "    <tr>\n",
       "      <th>981</th>\n",
       "      <td>2013-09-01</td>\n",
       "      <td>Informal</td>\n",
       "      <td>7.07</td>\n",
       "      <td>NaN</td>\n",
       "    </tr>\n",
       "    <tr>\n",
       "      <th>983</th>\n",
       "      <td>2013-10-01</td>\n",
       "      <td>Informal</td>\n",
       "      <td>7.25</td>\n",
       "      <td>NaN</td>\n",
       "    </tr>\n",
       "    <tr>\n",
       "      <th>985</th>\n",
       "      <td>2013-11-01</td>\n",
       "      <td>Informal</td>\n",
       "      <td>7.20</td>\n",
       "      <td>NaN</td>\n",
       "    </tr>\n",
       "    <tr>\n",
       "      <th>987</th>\n",
       "      <td>2013-01-14</td>\n",
       "      <td>Informal</td>\n",
       "      <td>7.20</td>\n",
       "      <td>NaN</td>\n",
       "    </tr>\n",
       "    <tr>\n",
       "      <th>989</th>\n",
       "      <td>2013-01-15</td>\n",
       "      <td>Informal</td>\n",
       "      <td>7.34</td>\n",
       "      <td>NaN</td>\n",
       "    </tr>\n",
       "  </tbody>\n",
       "</table>\n",
       "</div>"
      ],
      "text/plain": [
       "         Fecha Tipo de dólar  Precio de venta  Precio de compra\n",
       "971 2013-02-01      Informal             6.91               NaN\n",
       "973 2013-03-01      Informal             7.07               NaN\n",
       "974 2013-04-01      Informal             7.07               NaN\n",
       "976 2013-07-01      Informal             7.04               NaN\n",
       "979 2013-08-01      Informal             7.05               NaN\n",
       "981 2013-09-01      Informal             7.07               NaN\n",
       "983 2013-10-01      Informal             7.25               NaN\n",
       "985 2013-11-01      Informal             7.20               NaN\n",
       "987 2013-01-14      Informal             7.20               NaN\n",
       "989 2013-01-15      Informal             7.34               NaN"
      ]
     },
     "execution_count": 168,
     "metadata": {},
     "output_type": "execute_result"
    }
   ],
   "source": [
    "evol_dolar_inf = evol_dolar[evol_dolar['Tipo de d\\xc3\\xb3lar'] == 'Informal']\n",
    "evol_dolar_inf.head(10)"
   ]
  },
  {
   "cell_type": "code",
   "execution_count": 169,
   "metadata": {
    "collapsed": false
   },
   "outputs": [
    {
     "data": {
      "text/html": [
       "<div>\n",
       "<table border=\"1\" class=\"dataframe\">\n",
       "  <thead>\n",
       "    <tr style=\"text-align: right;\">\n",
       "      <th></th>\n",
       "      <th>Fecha</th>\n",
       "      <th>Tipo de dólar</th>\n",
       "      <th>Precio de venta</th>\n",
       "      <th>Precio de compra</th>\n",
       "      <th>year</th>\n",
       "      <th>month</th>\n",
       "    </tr>\n",
       "  </thead>\n",
       "  <tbody>\n",
       "    <tr>\n",
       "      <th>971</th>\n",
       "      <td>2013-02-01</td>\n",
       "      <td>Informal</td>\n",
       "      <td>6.91</td>\n",
       "      <td>NaN</td>\n",
       "      <td>2013</td>\n",
       "      <td>2</td>\n",
       "    </tr>\n",
       "    <tr>\n",
       "      <th>973</th>\n",
       "      <td>2013-03-01</td>\n",
       "      <td>Informal</td>\n",
       "      <td>7.07</td>\n",
       "      <td>NaN</td>\n",
       "      <td>2013</td>\n",
       "      <td>3</td>\n",
       "    </tr>\n",
       "    <tr>\n",
       "      <th>974</th>\n",
       "      <td>2013-04-01</td>\n",
       "      <td>Informal</td>\n",
       "      <td>7.07</td>\n",
       "      <td>NaN</td>\n",
       "      <td>2013</td>\n",
       "      <td>4</td>\n",
       "    </tr>\n",
       "    <tr>\n",
       "      <th>976</th>\n",
       "      <td>2013-07-01</td>\n",
       "      <td>Informal</td>\n",
       "      <td>7.04</td>\n",
       "      <td>NaN</td>\n",
       "      <td>2013</td>\n",
       "      <td>7</td>\n",
       "    </tr>\n",
       "    <tr>\n",
       "      <th>979</th>\n",
       "      <td>2013-08-01</td>\n",
       "      <td>Informal</td>\n",
       "      <td>7.05</td>\n",
       "      <td>NaN</td>\n",
       "      <td>2013</td>\n",
       "      <td>8</td>\n",
       "    </tr>\n",
       "    <tr>\n",
       "      <th>981</th>\n",
       "      <td>2013-09-01</td>\n",
       "      <td>Informal</td>\n",
       "      <td>7.07</td>\n",
       "      <td>NaN</td>\n",
       "      <td>2013</td>\n",
       "      <td>9</td>\n",
       "    </tr>\n",
       "    <tr>\n",
       "      <th>983</th>\n",
       "      <td>2013-10-01</td>\n",
       "      <td>Informal</td>\n",
       "      <td>7.25</td>\n",
       "      <td>NaN</td>\n",
       "      <td>2013</td>\n",
       "      <td>10</td>\n",
       "    </tr>\n",
       "    <tr>\n",
       "      <th>985</th>\n",
       "      <td>2013-11-01</td>\n",
       "      <td>Informal</td>\n",
       "      <td>7.20</td>\n",
       "      <td>NaN</td>\n",
       "      <td>2013</td>\n",
       "      <td>11</td>\n",
       "    </tr>\n",
       "    <tr>\n",
       "      <th>987</th>\n",
       "      <td>2013-01-14</td>\n",
       "      <td>Informal</td>\n",
       "      <td>7.20</td>\n",
       "      <td>NaN</td>\n",
       "      <td>2013</td>\n",
       "      <td>1</td>\n",
       "    </tr>\n",
       "    <tr>\n",
       "      <th>989</th>\n",
       "      <td>2013-01-15</td>\n",
       "      <td>Informal</td>\n",
       "      <td>7.34</td>\n",
       "      <td>NaN</td>\n",
       "      <td>2013</td>\n",
       "      <td>1</td>\n",
       "    </tr>\n",
       "  </tbody>\n",
       "</table>\n",
       "</div>"
      ],
      "text/plain": [
       "         Fecha Tipo de dólar  Precio de venta  Precio de compra  year  month\n",
       "971 2013-02-01      Informal             6.91               NaN  2013      2\n",
       "973 2013-03-01      Informal             7.07               NaN  2013      3\n",
       "974 2013-04-01      Informal             7.07               NaN  2013      4\n",
       "976 2013-07-01      Informal             7.04               NaN  2013      7\n",
       "979 2013-08-01      Informal             7.05               NaN  2013      8\n",
       "981 2013-09-01      Informal             7.07               NaN  2013      9\n",
       "983 2013-10-01      Informal             7.25               NaN  2013     10\n",
       "985 2013-11-01      Informal             7.20               NaN  2013     11\n",
       "987 2013-01-14      Informal             7.20               NaN  2013      1\n",
       "989 2013-01-15      Informal             7.34               NaN  2013      1"
      ]
     },
     "execution_count": 169,
     "metadata": {},
     "output_type": "execute_result"
    }
   ],
   "source": [
    "dolar_inf = evol_dolar_inf\n",
    "dolar_inf.loc[:,'year'] = pd.to_datetime(evol_dolar_inf.loc[:,'Fecha']).dt.year\n",
    "dolar_inf.loc[:,'month'] = pd.to_datetime(evol_dolar_inf.loc[:,'Fecha']).dt.month\n",
    "dolar_inf.head(10)"
   ]
  },
  {
   "cell_type": "code",
   "execution_count": 170,
   "metadata": {
    "collapsed": false
   },
   "outputs": [
    {
     "data": {
      "image/png": "[encoded data removed]",
      "text/plain": [
       "<matplotlib.figure.Figure at 0x7f74775d8e90>"
      ]
     },
     "metadata": {},
     "output_type": "display_data"
    }
   ],
   "source": [
    "%matplotlib inline\n",
    "ax = dolar_inf[['Precio de venta','Fecha']].plot(kind='line', title = 'Valor del dolar por fecha', figsize=(15,10))\n",
    "ax.set_xlabel(\"Fecha\",fontsize=12)\n",
    "plt.show()"
   ]
  },
  {
   "cell_type": "code",
   "execution_count": null,
   "metadata": {
    "collapsed": true
   },
   "outputs": [],
   "source": []
  }
 ],
 "metadata": {
  "kernelspec": {
   "display_name": "Python 2",
   "language": "python",
   "name": "python2"
  },
  "language_info": {
   "codemirror_mode": {
    "name": "ipython",
    "version": 2
   },
   "file_extension": ".py",
   "mimetype": "text/x-python",
   "name": "python",
   "nbconvert_exporter": "python",
   "pygments_lexer": "ipython2",
   "version": "2.7.11"
  }
 },
 "nbformat": 4,
 "nbformat_minor": 2
}
